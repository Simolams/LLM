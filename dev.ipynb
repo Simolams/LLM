{
 "cells": [
  {
   "cell_type": "code",
   "execution_count": 1,
   "metadata": {},
   "outputs": [
    {
     "name": "stderr",
     "output_type": "stream",
     "text": [
      "c:\\ProgramData\\Anaconda3\\envs\\pdi\\Lib\\site-packages\\tqdm\\auto.py:21: TqdmWarning: IProgress not found. Please update jupyter and ipywidgets. See https://ipywidgets.readthedocs.io/en/stable/user_install.html\n",
      "  from .autonotebook import tqdm as notebook_tqdm\n"
     ]
    }
   ],
   "source": [
    "import numpy as np\n",
    "import pandas as pd\n",
    "import matplotlib.pyplot as plt\n",
    "import duckduckgo_search\n",
    "from duckduckgo_search import DDGS\n",
    "import regex as re\n",
    "from datasets import load_dataset\n",
    "import transformers\n",
    "from transformers import pipeline"
   ]
  },
  {
   "cell_type": "code",
   "execution_count": 2,
   "metadata": {},
   "outputs": [],
   "source": [
    "df = pd.read_pickle(\"nq_open_sample.pkl\")"
   ]
  },
  {
   "cell_type": "code",
   "execution_count": 3,
   "metadata": {},
   "outputs": [
    {
     "data": {
      "text/html": [
       "<div>\n",
       "<style scoped>\n",
       "    .dataframe tbody tr th:only-of-type {\n",
       "        vertical-align: middle;\n",
       "    }\n",
       "\n",
       "    .dataframe tbody tr th {\n",
       "        vertical-align: top;\n",
       "    }\n",
       "\n",
       "    .dataframe thead th {\n",
       "        text-align: right;\n",
       "    }\n",
       "</style>\n",
       "<table border=\"1\" class=\"dataframe\">\n",
       "  <thead>\n",
       "    <tr style=\"text-align: right;\">\n",
       "      <th></th>\n",
       "      <th>question</th>\n",
       "      <th>answer</th>\n",
       "    </tr>\n",
       "  </thead>\n",
       "  <tbody>\n",
       "    <tr>\n",
       "      <th>0</th>\n",
       "      <td>when did the first episode of breaking bad air</td>\n",
       "      <td>[January 20, 2008]</td>\n",
       "    </tr>\n",
       "    <tr>\n",
       "      <th>1</th>\n",
       "      <td>how many house of cards seasons are there</td>\n",
       "      <td>[5]</td>\n",
       "    </tr>\n",
       "    <tr>\n",
       "      <th>2</th>\n",
       "      <td>which festival is a worship of the god of powe...</td>\n",
       "      <td>[Karam]</td>\n",
       "    </tr>\n",
       "    <tr>\n",
       "      <th>3</th>\n",
       "      <td>when was the first land before time made</td>\n",
       "      <td>[1988]</td>\n",
       "    </tr>\n",
       "    <tr>\n",
       "      <th>4</th>\n",
       "      <td>the chihuahua is a breed of dog believed to or...</td>\n",
       "      <td>[Mexico]</td>\n",
       "    </tr>\n",
       "    <tr>\n",
       "      <th>...</th>\n",
       "      <td>...</td>\n",
       "      <td>...</td>\n",
       "    </tr>\n",
       "    <tr>\n",
       "      <th>295</th>\n",
       "      <td>how many satellites launched by isro in one ro...</td>\n",
       "      <td>[104]</td>\n",
       "    </tr>\n",
       "    <tr>\n",
       "      <th>296</th>\n",
       "      <td>when is america's got talent live 2017</td>\n",
       "      <td>[August 15, 2017]</td>\n",
       "    </tr>\n",
       "    <tr>\n",
       "      <th>297</th>\n",
       "      <td>gmt is named after a place in which country</td>\n",
       "      <td>[the United Kingdom]</td>\n",
       "    </tr>\n",
       "    <tr>\n",
       "      <th>298</th>\n",
       "      <td>how fast is the cheetah at wild adventures</td>\n",
       "      <td>[52 miles per hour]</td>\n",
       "    </tr>\n",
       "    <tr>\n",
       "      <th>299</th>\n",
       "      <td>which republican senate seats are up in 2018</td>\n",
       "      <td>[Utah, Nevada, Wyoming, Nebraska, Mississippi,...</td>\n",
       "    </tr>\n",
       "  </tbody>\n",
       "</table>\n",
       "<p>300 rows × 2 columns</p>\n",
       "</div>"
      ],
      "text/plain": [
       "                                              question  \\\n",
       "0       when did the first episode of breaking bad air   \n",
       "1            how many house of cards seasons are there   \n",
       "2    which festival is a worship of the god of powe...   \n",
       "3             when was the first land before time made   \n",
       "4    the chihuahua is a breed of dog believed to or...   \n",
       "..                                                 ...   \n",
       "295  how many satellites launched by isro in one ro...   \n",
       "296             when is america's got talent live 2017   \n",
       "297        gmt is named after a place in which country   \n",
       "298         how fast is the cheetah at wild adventures   \n",
       "299       which republican senate seats are up in 2018   \n",
       "\n",
       "                                                answer  \n",
       "0                                   [January 20, 2008]  \n",
       "1                                                  [5]  \n",
       "2                                              [Karam]  \n",
       "3                                               [1988]  \n",
       "4                                             [Mexico]  \n",
       "..                                                 ...  \n",
       "295                                              [104]  \n",
       "296                                  [August 15, 2017]  \n",
       "297                               [the United Kingdom]  \n",
       "298                                [52 miles per hour]  \n",
       "299  [Utah, Nevada, Wyoming, Nebraska, Mississippi,...  \n",
       "\n",
       "[300 rows x 2 columns]"
      ]
     },
     "execution_count": 3,
     "metadata": {},
     "output_type": "execute_result"
    }
   ],
   "source": [
    "df"
   ]
  },
  {
   "cell_type": "code",
   "execution_count": 4,
   "metadata": {},
   "outputs": [],
   "source": [
    "def search_google(query):\n",
    "\n",
    "    #content = \"\"\n",
    "    content = []\n",
    "    results = DDGS().text(query, max_results=10)\n",
    "\n",
    "    for text in results : \n",
    "        #content+=\"\\n\"+text['body']\n",
    "        sub_text = re.sub(r'([^\\s\\w]|_)+', '', text['body'])\n",
    "        content.append(sub_text)\n",
    "\n",
    "    return content"
   ]
  },
  {
   "cell_type": "code",
   "execution_count": 5,
   "metadata": {},
   "outputs": [],
   "source": [
    "query = 'yahya krombi'\n",
    "results = DDGS().text(query, max_results=5)"
   ]
  },
  {
   "cell_type": "code",
   "execution_count": 6,
   "metadata": {},
   "outputs": [
    {
     "data": {
      "text/plain": [
       "[{'title': 'Yahya Krombi - Strategic Data Scientist - BNP Paribas - LinkedIn',\n",
       "  'href': 'https://fr.linkedin.com/in/yahya-krombi-919703215',\n",
       "  'body': \"Data scientist @BNPParibas · Expérience : BNP Paribas · Formation : Université de Technologie de Troyes · Lieu : Paris · 500 relations ou plus sur LinkedIn. Consultez le profil de Yahya Krombi sur LinkedIn, une communauté professionnelle d'un milliard de membres.\"},\n",
       " {'title': 'Yahya KROMBI | École Nationale Supérieure de Mécanique et des ...',\n",
       "  'href': 'https://www.researchgate.net/profile/Yahya-Krombi',\n",
       "  'body': 'Yahya KROMBI of École Nationale Supérieure de Mécanique et des Microtechniques, Besançon (ENSMM) | Contact Yahya KROMBI'},\n",
       " {'title': 'Yahya Krombi - Facebook',\n",
       "  'href': 'https://www.facebook.com/yahya.krombi/',\n",
       "  'body': 'Yahya Krombi is on Facebook. Join Facebook to connect with Yahya Krombi and others you may know. Facebook gives people the power to share and makes the world more open and connected.'},\n",
       " {'title': 'yahya krombi - YouTube',\n",
       "  'href': 'https://www.youtube.com/channel/UCNgMAhIuajj-bD6FEQ6vubw',\n",
       "  'body': 'Share your videos with friends, family, and the world'},\n",
       " {'title': 'Yahya Krombi Profiles - Facebook',\n",
       "  'href': 'https://www.facebook.com/public/Yahya-Krombi/',\n",
       "  'body': 'View the profiles of people named Yahya Krombi. Join Facebook to connect with Yahya Krombi and others you may know. Facebook gives people the power to...'}]"
      ]
     },
     "execution_count": 6,
     "metadata": {},
     "output_type": "execute_result"
    }
   ],
   "source": [
    "results"
   ]
  },
  {
   "cell_type": "code",
   "execution_count": 27,
   "metadata": {},
   "outputs": [
    {
     "name": "stdout",
     "output_type": "stream",
     "text": [
      "['Paris French pronunciation ⓘ is the capital and largest city of FranceWith an estimated population of 2102650 residents in January 2023 2 in an area of more than 105 km 2 41 sq mi 5 Paris is the fourthmost populous city in the European Union the ninthmost populous city in Europe and the 30th most densely populated city in the world in 2022 6', 'Paris city and capital of France located along the Seine River in the northcentral part of the country Paris is one of the worlds most important and attractive cities famed for its gastronomy haute couture painting literature and intellectual community Learn more about Paris in this article', 'As the capital city of France the city plays host to the national government of France Even the official residence of the president is in the city at the Élysée Palace while the Prime Minister is housed at the Hôtel Matignon The Senate or the upper house meets at the Palais du Luxembourg while the Palais Bourbon is the meeting point for ', 'Paris nicknamed the City of light is the capital city of France and the largest city in FranceThe area is 105 square kilometres 41 square miles and around 215 million people live there If suburbs are counted the population of the Paris area rises to 107 million people It is the most densely populated city in the European Union with 20653 people per square kilometer', 'France a country of northwestern Europe is historically and culturally among the most important countries in the Western world It has also played a highly significant role in international affairs for centuries Its capital is Paris one of the most important cultural and commercial centers in the world', 'This is a chronological list of capitals of France The capital of France has been Paris since its liberation in 1944 1 Chronology Tournai before 486 currentday Belgium Soissons 486936 Laon 936987 Paris 9871419 the residence of the Kings of France although they were consecrated at Reims', 'Paris the capital of France is located in the northcentral portion of the country It constitutes one of the départements of the ÎledeFrance administrative region and is Frances most important centre of commerce and culture The city is home to the Eiffel Tower one of the worlds premier tourist attractions which opened to the public on May 15 1889', 'For the current capital see Paris The capital of France is Paris 1 In the course of history the national capital has been in many locations other than Paris History List of capitals of France Tournai before 486 Soissons 486ca 900 Paris 9001419 The residence of ', 'Paris is the capital of France Also known as the City of Light is not only the capital but also the most populous city of France Paris is renowned globally for its art fashion gastronomy and culture Paris the capital city of France Paris has been an important hub of commerce finance science music and philosophy', 'Paris the city and capital of France is located in the northcentral part of the countryHuman habitation in this area dates back to around 7600 BCE situated along the Seine River approximately 233 miles 375 km upstream from where the river meets the English Channel La Manche']\n"
     ]
    }
   ],
   "source": [
    "content = search_google(\"what is the capital of France ?\")\n",
    "print(content)"
   ]
  },
  {
   "cell_type": "code",
   "execution_count": 28,
   "metadata": {},
   "outputs": [
    {
     "data": {
      "text/plain": [
       "['Paris French pronunciation ⓘ is the capital and largest city of FranceWith an estimated population of 2102650 residents in January 2023 2 in an area of more than 105 km 2 41 sq mi 5 Paris is the fourthmost populous city in the European Union the ninthmost populous city in Europe and the 30th most densely populated city in the world in 2022 6',\n",
       " 'Paris city and capital of France located along the Seine River in the northcentral part of the country Paris is one of the worlds most important and attractive cities famed for its gastronomy haute couture painting literature and intellectual community Learn more about Paris in this article',\n",
       " 'As the capital city of France the city plays host to the national government of France Even the official residence of the president is in the city at the Élysée Palace while the Prime Minister is housed at the Hôtel Matignon The Senate or the upper house meets at the Palais du Luxembourg while the Palais Bourbon is the meeting point for ',\n",
       " 'Paris nicknamed the City of light is the capital city of France and the largest city in FranceThe area is 105 square kilometres 41 square miles and around 215 million people live there If suburbs are counted the population of the Paris area rises to 107 million people It is the most densely populated city in the European Union with 20653 people per square kilometer',\n",
       " 'France a country of northwestern Europe is historically and culturally among the most important countries in the Western world It has also played a highly significant role in international affairs for centuries Its capital is Paris one of the most important cultural and commercial centers in the world',\n",
       " 'This is a chronological list of capitals of France The capital of France has been Paris since its liberation in 1944 1 Chronology Tournai before 486 currentday Belgium Soissons 486936 Laon 936987 Paris 9871419 the residence of the Kings of France although they were consecrated at Reims',\n",
       " 'Paris the capital of France is located in the northcentral portion of the country It constitutes one of the départements of the ÎledeFrance administrative region and is Frances most important centre of commerce and culture The city is home to the Eiffel Tower one of the worlds premier tourist attractions which opened to the public on May 15 1889',\n",
       " 'For the current capital see Paris The capital of France is Paris 1 In the course of history the national capital has been in many locations other than Paris History List of capitals of France Tournai before 486 Soissons 486ca 900 Paris 9001419 The residence of ',\n",
       " 'Paris is the capital of France Also known as the City of Light is not only the capital but also the most populous city of France Paris is renowned globally for its art fashion gastronomy and culture Paris the capital city of France Paris has been an important hub of commerce finance science music and philosophy',\n",
       " 'Paris the city and capital of France is located in the northcentral part of the countryHuman habitation in this area dates back to around 7600 BCE situated along the Seine River approximately 233 miles 375 km upstream from where the river meets the English Channel La Manche']"
      ]
     },
     "execution_count": 28,
     "metadata": {},
     "output_type": "execute_result"
    }
   ],
   "source": [
    "content"
   ]
  },
  {
   "cell_type": "markdown",
   "metadata": {},
   "source": [
    "## model exploration"
   ]
  },
  {
   "cell_type": "code",
   "execution_count": 10,
   "metadata": {},
   "outputs": [
    {
     "name": "stdout",
     "output_type": "stream",
     "text": [
      "WARNING:tensorflow:From c:\\ProgramData\\Anaconda3\\envs\\pdi\\Lib\\site-packages\\tf_keras\\src\\losses.py:2976: The name tf.losses.sparse_softmax_cross_entropy is deprecated. Please use tf.compat.v1.losses.sparse_softmax_cross_entropy instead.\n",
      "\n"
     ]
    },
    {
     "name": "stderr",
     "output_type": "stream",
     "text": [
      "Device set to use cpu\n"
     ]
    }
   ],
   "source": [
    "qa_model = pipeline(\"question-answering\", \"timpal0l/mdeberta-v3-base-squad2\")"
   ]
  },
  {
   "cell_type": "code",
   "execution_count": null,
   "metadata": {},
   "outputs": [],
   "source": []
  },
  {
   "cell_type": "code",
   "execution_count": 11,
   "metadata": {},
   "outputs": [
    {
     "data": {
      "text/plain": [
       "'when did the first episode of breaking bad air'"
      ]
     },
     "execution_count": 11,
     "metadata": {},
     "output_type": "execute_result"
    }
   ],
   "source": [
    "df.question.iloc[0]"
   ]
  },
  {
   "cell_type": "code",
   "execution_count": 12,
   "metadata": {},
   "outputs": [
    {
     "data": {
      "text/plain": [
       "{'score': 0.9755479693412781, 'start': 28, 'end': 36, 'answer': ' Sweden.'}"
      ]
     },
     "execution_count": 12,
     "metadata": {},
     "output_type": "execute_result"
    }
   ],
   "source": [
    "question = \"Where do I live?\"\n",
    "context = \"My name is Tim and I live in Sweden.\"\n",
    "qa_model(question = question, context = context)"
   ]
  },
  {
   "cell_type": "code",
   "execution_count": 17,
   "metadata": {},
   "outputs": [
    {
     "name": "stderr",
     "output_type": "stream",
     "text": [
      "c:\\ProgramData\\Anaconda3\\envs\\pdi\\Lib\\site-packages\\transformers\\pipelines\\question_answering.py:391: FutureWarning: Passing a list of SQuAD examples to the pipeline is deprecated and will be removed in v5. Inputs should be passed using the `question` and `context` keyword arguments instead.\n",
      "  warnings.warn(\n"
     ]
    }
   ],
   "source": [
    "## Parallelization\n",
    "question = \"Where do I live?\"\n",
    "contexts = [\n",
    "    \"My name is Tim and I live in Sweden.\",\n",
    "    \"My name is Anna and I live in Norway.\",\n",
    "    \"My name is John and I live in Finland.\",\n",
    "    \"My name is Jane and I live in Denmark.\"\n",
    "]\n",
    "\n",
    "# Create a batch of inputs\n",
    "batch = [{\"question\": question, \"context\": context} for context in contexts]\n",
    "\n",
    "# Use the model to process the batch\n",
    "results = qa_model(batch)"
   ]
  },
  {
   "cell_type": "code",
   "execution_count": 109,
   "metadata": {},
   "outputs": [
    {
     "data": {
      "text/plain": [
       "('who appoints elects the speaker of the loksabha',\n",
       " ['Members of the Lok Sabha'])"
      ]
     },
     "execution_count": 109,
     "metadata": {},
     "output_type": "execute_result"
    }
   ],
   "source": [
    "i = 270\n",
    "df.question.iloc[i],  df.answer.iloc[i]"
   ]
  },
  {
   "cell_type": "code",
   "execution_count": 110,
   "metadata": {},
   "outputs": [
    {
     "data": {
      "text/plain": [
       "['Members of the Lok Sabha']"
      ]
     },
     "execution_count": 110,
     "metadata": {},
     "output_type": "execute_result"
    }
   ],
   "source": [
    "df.answer.iloc[i]"
   ]
  },
  {
   "cell_type": "code",
   "execution_count": 111,
   "metadata": {},
   "outputs": [],
   "source": [
    "## Parallelization\n",
    "question = df.question.iloc[i]\n",
    "contexts = search_google(question)\n",
    "\n",
    "# Create a batch of inputs\n",
    "batch = [{\"question\": question, \"context\": context} for context in contexts]\n",
    "\n",
    "# Use the model to process the batch\n",
    "results = qa_model(batch)"
   ]
  },
  {
   "cell_type": "code",
   "execution_count": 117,
   "metadata": {},
   "outputs": [
    {
     "data": {
      "text/plain": [
       "[{'score': 0.15459221601486206,\n",
       "  'start': 205,\n",
       "  'end': 264,\n",
       "  'answer': ' first meeting of the Lok Sabha following general elections'},\n",
       " {'score': 0.3910368084907532, 'start': 36, 'end': 40, 'answer': ' BJP'},\n",
       " {'score': 0.23888108134269714,\n",
       "  'start': 42,\n",
       "  'end': 67,\n",
       "  'answer': ' members of the Lok Sabha'},\n",
       " {'score': 0.48815831542015076,\n",
       "  'start': 151,\n",
       "  'end': 170,\n",
       "  'answer': ' President of India'},\n",
       " {'score': 0.17409957945346832,\n",
       "  'start': 32,\n",
       "  'end': 99,\n",
       "  'answer': ' from among the members of the lower house of the Indian Parliament'}]"
      ]
     },
     "execution_count": 117,
     "metadata": {},
     "output_type": "execute_result"
    }
   ],
   "source": [
    "results"
   ]
  },
  {
   "cell_type": "code",
   "execution_count": 125,
   "metadata": {},
   "outputs": [
    {
     "name": "stdout",
     "output_type": "stream",
     "text": [
      "dict_keys(['score', 'start', 'end', 'answer'])\n",
      "dict_keys(['score', 'start', 'end', 'answer'])\n",
      "dict_keys(['score', 'start', 'end', 'answer'])\n",
      "dict_keys(['score', 'start', 'end', 'answer'])\n",
      "dict_keys(['score', 'start', 'end', 'answer'])\n"
     ]
    }
   ],
   "source": [
    "for dic in results : \n",
    "        print(dic.keys())\n",
    "        dic"
   ]
  },
  {
   "cell_type": "code",
   "execution_count": 33,
   "metadata": {},
   "outputs": [],
   "source": [
    "def results_parser(output):\n",
    "\n",
    "    formated_output = []\n",
    "\n",
    "    for dic in output : \n",
    "        formated_output.append(dic['answer'].lstrip())\n",
    "    \n",
    "    return formated_output\n"
   ]
  },
  {
   "cell_type": "code",
   "execution_count": 34,
   "metadata": {},
   "outputs": [],
   "source": [
    "def QA_answer(query,best_score=False):\n",
    "\n",
    "    ## Parallelization\n",
    "    contexts = search_google(query)\n",
    "    # Create a batch of inputs\n",
    "    batch = [{\"question\": query, \"context\": context} for context in contexts]\n",
    "\n",
    "    # Use the model to process the batch\n",
    "    results = qa_model(batch)\n",
    "    output = results_parser(results)\n",
    "    if best_score : \n",
    "        return pd.DataFrame(results).sort_values(by='score',ascending=False).answer.iloc[0].lstrip()\n",
    "\n",
    "    return output"
   ]
  },
  {
   "cell_type": "code",
   "execution_count": 44,
   "metadata": {},
   "outputs": [
    {
     "name": "stderr",
     "output_type": "stream",
     "text": [
      "c:\\ProgramData\\Anaconda3\\envs\\pdi\\Lib\\site-packages\\transformers\\pipelines\\question_answering.py:391: FutureWarning: Passing a list of SQuAD examples to the pipeline is deprecated and will be removed in v5. Inputs should be passed using the `question` and `context` keyword arguments instead.\n",
      "  warnings.warn(\n"
     ]
    },
    {
     "data": {
      "text/plain": [
       "'LinkedIn'"
      ]
     },
     "execution_count": 44,
     "metadata": {},
     "output_type": "execute_result"
    }
   ],
   "source": [
    "QA_answer('where do mohamed lamsaoub work ?')"
   ]
  },
  {
   "cell_type": "code",
   "execution_count": 45,
   "metadata": {},
   "outputs": [],
   "source": [
    "df_eval = df.iloc[:15]"
   ]
  },
  {
   "cell_type": "code",
   "execution_count": 47,
   "metadata": {},
   "outputs": [
    {
     "data": {
      "text/html": [
       "<div>\n",
       "<style scoped>\n",
       "    .dataframe tbody tr th:only-of-type {\n",
       "        vertical-align: middle;\n",
       "    }\n",
       "\n",
       "    .dataframe tbody tr th {\n",
       "        vertical-align: top;\n",
       "    }\n",
       "\n",
       "    .dataframe thead th {\n",
       "        text-align: right;\n",
       "    }\n",
       "</style>\n",
       "<table border=\"1\" class=\"dataframe\">\n",
       "  <thead>\n",
       "    <tr style=\"text-align: right;\">\n",
       "      <th></th>\n",
       "      <th>question</th>\n",
       "      <th>answer</th>\n",
       "    </tr>\n",
       "  </thead>\n",
       "  <tbody>\n",
       "    <tr>\n",
       "      <th>0</th>\n",
       "      <td>when did the first episode of breaking bad air</td>\n",
       "      <td>[January 20, 2008]</td>\n",
       "    </tr>\n",
       "    <tr>\n",
       "      <th>1</th>\n",
       "      <td>how many house of cards seasons are there</td>\n",
       "      <td>[5]</td>\n",
       "    </tr>\n",
       "    <tr>\n",
       "      <th>2</th>\n",
       "      <td>which festival is a worship of the god of powe...</td>\n",
       "      <td>[Karam]</td>\n",
       "    </tr>\n",
       "    <tr>\n",
       "      <th>3</th>\n",
       "      <td>when was the first land before time made</td>\n",
       "      <td>[1988]</td>\n",
       "    </tr>\n",
       "    <tr>\n",
       "      <th>4</th>\n",
       "      <td>the chihuahua is a breed of dog believed to or...</td>\n",
       "      <td>[Mexico]</td>\n",
       "    </tr>\n",
       "    <tr>\n",
       "      <th>5</th>\n",
       "      <td>actor who plays steve on days of our lives</td>\n",
       "      <td>[Stephen Nichols]</td>\n",
       "    </tr>\n",
       "    <tr>\n",
       "      <th>6</th>\n",
       "      <td>who reformed the athenian constitution into a ...</td>\n",
       "      <td>[Solon]</td>\n",
       "    </tr>\n",
       "    <tr>\n",
       "      <th>7</th>\n",
       "      <td>what is the name of the european weather model</td>\n",
       "      <td>[Integrated Forecast System]</td>\n",
       "    </tr>\n",
       "    <tr>\n",
       "      <th>8</th>\n",
       "      <td>where does the money from pch come from</td>\n",
       "      <td>[multi-magazine subscription business]</td>\n",
       "    </tr>\n",
       "    <tr>\n",
       "      <th>9</th>\n",
       "      <td>who plays chloe valentine in be more chill</td>\n",
       "      <td>[Katlyn Carlson]</td>\n",
       "    </tr>\n",
       "    <tr>\n",
       "      <th>10</th>\n",
       "      <td>who was the viceroy of india when delhi became...</td>\n",
       "      <td>[Lord Irwin]</td>\n",
       "    </tr>\n",
       "    <tr>\n",
       "      <th>11</th>\n",
       "      <td>which german state benefited most from the ter...</td>\n",
       "      <td>[German Kingdoms of Hanover]</td>\n",
       "    </tr>\n",
       "    <tr>\n",
       "      <th>12</th>\n",
       "      <td>who sings the song everybody walk the dinosaur</td>\n",
       "      <td>[Was (Not Was)]</td>\n",
       "    </tr>\n",
       "    <tr>\n",
       "      <th>13</th>\n",
       "      <td>who is the composer of eine kleine nachtmusik</td>\n",
       "      <td>[Wolfgang Amadeus Mozart]</td>\n",
       "    </tr>\n",
       "    <tr>\n",
       "      <th>14</th>\n",
       "      <td>who are the candidates running for president i...</td>\n",
       "      <td>[Jaime Rodríguez Calderón, Andrés Manuel López...</td>\n",
       "    </tr>\n",
       "  </tbody>\n",
       "</table>\n",
       "</div>"
      ],
      "text/plain": [
       "                                             question  \\\n",
       "0      when did the first episode of breaking bad air   \n",
       "1           how many house of cards seasons are there   \n",
       "2   which festival is a worship of the god of powe...   \n",
       "3            when was the first land before time made   \n",
       "4   the chihuahua is a breed of dog believed to or...   \n",
       "5          actor who plays steve on days of our lives   \n",
       "6   who reformed the athenian constitution into a ...   \n",
       "7      what is the name of the european weather model   \n",
       "8             where does the money from pch come from   \n",
       "9          who plays chloe valentine in be more chill   \n",
       "10  who was the viceroy of india when delhi became...   \n",
       "11  which german state benefited most from the ter...   \n",
       "12     who sings the song everybody walk the dinosaur   \n",
       "13      who is the composer of eine kleine nachtmusik   \n",
       "14  who are the candidates running for president i...   \n",
       "\n",
       "                                               answer  \n",
       "0                                  [January 20, 2008]  \n",
       "1                                                 [5]  \n",
       "2                                             [Karam]  \n",
       "3                                              [1988]  \n",
       "4                                            [Mexico]  \n",
       "5                                   [Stephen Nichols]  \n",
       "6                                             [Solon]  \n",
       "7                        [Integrated Forecast System]  \n",
       "8              [multi-magazine subscription business]  \n",
       "9                                    [Katlyn Carlson]  \n",
       "10                                       [Lord Irwin]  \n",
       "11                       [German Kingdoms of Hanover]  \n",
       "12                                    [Was (Not Was)]  \n",
       "13                          [Wolfgang Amadeus Mozart]  \n",
       "14  [Jaime Rodríguez Calderón, Andrés Manuel López...  "
      ]
     },
     "execution_count": 47,
     "metadata": {},
     "output_type": "execute_result"
    }
   ],
   "source": [
    "df_eval"
   ]
  },
  {
   "cell_type": "code",
   "execution_count": 48,
   "metadata": {},
   "outputs": [
    {
     "name": "stderr",
     "output_type": "stream",
     "text": [
      "c:\\ProgramData\\Anaconda3\\envs\\pdi\\Lib\\site-packages\\transformers\\pipelines\\question_answering.py:391: FutureWarning: Passing a list of SQuAD examples to the pipeline is deprecated and will be removed in v5. Inputs should be passed using the `question` and `context` keyword arguments instead.\n",
      "  warnings.warn(\n",
      "C:\\Users\\moham\\AppData\\Local\\Temp\\ipykernel_3156\\48095065.py:1: SettingWithCopyWarning: \n",
      "A value is trying to be set on a copy of a slice from a DataFrame.\n",
      "Try using .loc[row_indexer,col_indexer] = value instead\n",
      "\n",
      "See the caveats in the documentation: https://pandas.pydata.org/pandas-docs/stable/user_guide/indexing.html#returning-a-view-versus-a-copy\n",
      "  df_eval['QA_answers'] = df_eval.question.apply(lambda x : QA_answer(x,True))\n"
     ]
    }
   ],
   "source": [
    "df_eval['QA_answers'] = df_eval.question.apply(lambda x : QA_answer(x,True))"
   ]
  },
  {
   "cell_type": "code",
   "execution_count": 49,
   "metadata": {},
   "outputs": [
    {
     "data": {
      "text/html": [
       "<div>\n",
       "<style scoped>\n",
       "    .dataframe tbody tr th:only-of-type {\n",
       "        vertical-align: middle;\n",
       "    }\n",
       "\n",
       "    .dataframe tbody tr th {\n",
       "        vertical-align: top;\n",
       "    }\n",
       "\n",
       "    .dataframe thead th {\n",
       "        text-align: right;\n",
       "    }\n",
       "</style>\n",
       "<table border=\"1\" class=\"dataframe\">\n",
       "  <thead>\n",
       "    <tr style=\"text-align: right;\">\n",
       "      <th></th>\n",
       "      <th>question</th>\n",
       "      <th>answer</th>\n",
       "      <th>QA_answers</th>\n",
       "    </tr>\n",
       "  </thead>\n",
       "  <tbody>\n",
       "    <tr>\n",
       "      <th>0</th>\n",
       "      <td>when did the first episode of breaking bad air</td>\n",
       "      <td>[January 20, 2008]</td>\n",
       "      <td>January 20 2008</td>\n",
       "    </tr>\n",
       "    <tr>\n",
       "      <th>1</th>\n",
       "      <td>how many house of cards seasons are there</td>\n",
       "      <td>[5]</td>\n",
       "      <td>6</td>\n",
       "    </tr>\n",
       "    <tr>\n",
       "      <th>2</th>\n",
       "      <td>which festival is a worship of the god of powe...</td>\n",
       "      <td>[Karam]</td>\n",
       "      <td>Karam Devta</td>\n",
       "    </tr>\n",
       "    <tr>\n",
       "      <th>3</th>\n",
       "      <td>when was the first land before time made</td>\n",
       "      <td>[1988]</td>\n",
       "      <td>1988</td>\n",
       "    </tr>\n",
       "    <tr>\n",
       "      <th>4</th>\n",
       "      <td>the chihuahua is a breed of dog believed to or...</td>\n",
       "      <td>[Mexico]</td>\n",
       "      <td>Mexico</td>\n",
       "    </tr>\n",
       "    <tr>\n",
       "      <th>5</th>\n",
       "      <td>actor who plays steve on days of our lives</td>\n",
       "      <td>[Stephen Nichols]</td>\n",
       "      <td>Stephen Nichols</td>\n",
       "    </tr>\n",
       "    <tr>\n",
       "      <th>6</th>\n",
       "      <td>who reformed the athenian constitution into a ...</td>\n",
       "      <td>[Solon]</td>\n",
       "      <td>Cleisthenes</td>\n",
       "    </tr>\n",
       "    <tr>\n",
       "      <th>7</th>\n",
       "      <td>what is the name of the european weather model</td>\n",
       "      <td>[Integrated Forecast System]</td>\n",
       "      <td>ECMWF</td>\n",
       "    </tr>\n",
       "    <tr>\n",
       "      <th>8</th>\n",
       "      <td>where does the money from pch come from</td>\n",
       "      <td>[multi-magazine subscription business]</td>\n",
       "      <td>PCH merchandise and magazines</td>\n",
       "    </tr>\n",
       "    <tr>\n",
       "      <th>9</th>\n",
       "      <td>who plays chloe valentine in be more chill</td>\n",
       "      <td>[Katlyn Carlson]</td>\n",
       "      <td>Katlyn</td>\n",
       "    </tr>\n",
       "    <tr>\n",
       "      <th>10</th>\n",
       "      <td>who was the viceroy of india when delhi became...</td>\n",
       "      <td>[Lord Irwin]</td>\n",
       "      <td>Lord Irwin</td>\n",
       "    </tr>\n",
       "    <tr>\n",
       "      <th>11</th>\n",
       "      <td>which german state benefited most from the ter...</td>\n",
       "      <td>[German Kingdoms of Hanover]</td>\n",
       "      <td>Austria and Prussia</td>\n",
       "    </tr>\n",
       "    <tr>\n",
       "      <th>12</th>\n",
       "      <td>who sings the song everybody walk the dinosaur</td>\n",
       "      <td>[Was (Not Was)]</td>\n",
       "      <td>Was Not Was</td>\n",
       "    </tr>\n",
       "    <tr>\n",
       "      <th>13</th>\n",
       "      <td>who is the composer of eine kleine nachtmusik</td>\n",
       "      <td>[Wolfgang Amadeus Mozart]</td>\n",
       "      <td>Wolfgang Amadeus Mozart</td>\n",
       "    </tr>\n",
       "    <tr>\n",
       "      <th>14</th>\n",
       "      <td>who are the candidates running for president i...</td>\n",
       "      <td>[Jaime Rodríguez Calderón, Andrés Manuel López...</td>\n",
       "      <td>Claudia Sheinbaum</td>\n",
       "    </tr>\n",
       "  </tbody>\n",
       "</table>\n",
       "</div>"
      ],
      "text/plain": [
       "                                             question  \\\n",
       "0      when did the first episode of breaking bad air   \n",
       "1           how many house of cards seasons are there   \n",
       "2   which festival is a worship of the god of powe...   \n",
       "3            when was the first land before time made   \n",
       "4   the chihuahua is a breed of dog believed to or...   \n",
       "5          actor who plays steve on days of our lives   \n",
       "6   who reformed the athenian constitution into a ...   \n",
       "7      what is the name of the european weather model   \n",
       "8             where does the money from pch come from   \n",
       "9          who plays chloe valentine in be more chill   \n",
       "10  who was the viceroy of india when delhi became...   \n",
       "11  which german state benefited most from the ter...   \n",
       "12     who sings the song everybody walk the dinosaur   \n",
       "13      who is the composer of eine kleine nachtmusik   \n",
       "14  who are the candidates running for president i...   \n",
       "\n",
       "                                               answer  \\\n",
       "0                                  [January 20, 2008]   \n",
       "1                                                 [5]   \n",
       "2                                             [Karam]   \n",
       "3                                              [1988]   \n",
       "4                                            [Mexico]   \n",
       "5                                   [Stephen Nichols]   \n",
       "6                                             [Solon]   \n",
       "7                        [Integrated Forecast System]   \n",
       "8              [multi-magazine subscription business]   \n",
       "9                                    [Katlyn Carlson]   \n",
       "10                                       [Lord Irwin]   \n",
       "11                       [German Kingdoms of Hanover]   \n",
       "12                                    [Was (Not Was)]   \n",
       "13                          [Wolfgang Amadeus Mozart]   \n",
       "14  [Jaime Rodríguez Calderón, Andrés Manuel López...   \n",
       "\n",
       "                       QA_answers  \n",
       "0                 January 20 2008  \n",
       "1                               6  \n",
       "2                     Karam Devta  \n",
       "3                            1988  \n",
       "4                          Mexico  \n",
       "5                 Stephen Nichols  \n",
       "6                     Cleisthenes  \n",
       "7                           ECMWF  \n",
       "8   PCH merchandise and magazines  \n",
       "9                          Katlyn  \n",
       "10                     Lord Irwin  \n",
       "11            Austria and Prussia  \n",
       "12                    Was Not Was  \n",
       "13        Wolfgang Amadeus Mozart  \n",
       "14              Claudia Sheinbaum  "
      ]
     },
     "execution_count": 49,
     "metadata": {},
     "output_type": "execute_result"
    }
   ],
   "source": [
    "df_eval"
   ]
  },
  {
   "cell_type": "code",
   "execution_count": 13,
   "metadata": {},
   "outputs": [
    {
     "name": "stderr",
     "output_type": "stream",
     "text": [
      "C:\\Users\\moham\\AppData\\Local\\Temp\\ipykernel_26664\\2132691413.py:7: SettingWithCopyWarning: \n",
      "A value is trying to be set on a copy of a slice from a DataFrame.\n",
      "Try using .loc[row_indexer,col_indexer] = value instead\n",
      "\n",
      "See the caveats in the documentation: https://pandas.pydata.org/pandas-docs/stable/user_guide/indexing.html#returning-a-view-versus-a-copy\n",
      "  df_eval['answer_cleaned'] = df_eval.answer.apply(lambda x : clean(x))\n"
     ]
    }
   ],
   "source": [
    "def clean(text):\n",
    "\n",
    "    return [txt.replace(',','').replace('(','').replace(')','').lstrip() for txt in text]\n",
    "\n",
    "\n",
    "\n",
    "df_eval['answer_cleaned'] = df_eval.answer.apply(lambda x : clean(x))"
   ]
  },
  {
   "cell_type": "code",
   "execution_count": 14,
   "metadata": {},
   "outputs": [
    {
     "name": "stderr",
     "output_type": "stream",
     "text": [
      "C:\\Users\\moham\\AppData\\Local\\Temp\\ipykernel_26664\\2328089850.py:1: SettingWithCopyWarning: \n",
      "A value is trying to be set on a copy of a slice from a DataFrame.\n",
      "Try using .loc[row_indexer,col_indexer] = value instead\n",
      "\n",
      "See the caveats in the documentation: https://pandas.pydata.org/pandas-docs/stable/user_guide/indexing.html#returning-a-view-versus-a-copy\n",
      "  df_eval['score'] = df_eval.apply(lambda row : row['QA_answers'] in row['answer_cleaned'] , axis='columns')\n"
     ]
    }
   ],
   "source": [
    "df_eval['score'] = df_eval.apply(lambda row : row['QA_answers'] in row['answer_cleaned'] , axis='columns')"
   ]
  },
  {
   "cell_type": "code",
   "execution_count": 15,
   "metadata": {},
   "outputs": [
    {
     "data": {
      "text/html": [
       "<div>\n",
       "<style scoped>\n",
       "    .dataframe tbody tr th:only-of-type {\n",
       "        vertical-align: middle;\n",
       "    }\n",
       "\n",
       "    .dataframe tbody tr th {\n",
       "        vertical-align: top;\n",
       "    }\n",
       "\n",
       "    .dataframe thead th {\n",
       "        text-align: right;\n",
       "    }\n",
       "</style>\n",
       "<table border=\"1\" class=\"dataframe\">\n",
       "  <thead>\n",
       "    <tr style=\"text-align: right;\">\n",
       "      <th></th>\n",
       "      <th>question</th>\n",
       "      <th>answer</th>\n",
       "      <th>QA_answers</th>\n",
       "      <th>answer_cleaned</th>\n",
       "      <th>score</th>\n",
       "    </tr>\n",
       "  </thead>\n",
       "  <tbody>\n",
       "    <tr>\n",
       "      <th>0</th>\n",
       "      <td>when did the first episode of breaking bad air</td>\n",
       "      <td>[January 20, 2008]</td>\n",
       "      <td>January 20 2008</td>\n",
       "      <td>[January 20 2008]</td>\n",
       "      <td>True</td>\n",
       "    </tr>\n",
       "    <tr>\n",
       "      <th>1</th>\n",
       "      <td>how many house of cards seasons are there</td>\n",
       "      <td>[5]</td>\n",
       "      <td>6</td>\n",
       "      <td>[5]</td>\n",
       "      <td>False</td>\n",
       "    </tr>\n",
       "    <tr>\n",
       "      <th>2</th>\n",
       "      <td>which festival is a worship of the god of powe...</td>\n",
       "      <td>[Karam]</td>\n",
       "      <td>Karam Devta</td>\n",
       "      <td>[Karam]</td>\n",
       "      <td>False</td>\n",
       "    </tr>\n",
       "    <tr>\n",
       "      <th>3</th>\n",
       "      <td>when was the first land before time made</td>\n",
       "      <td>[1988]</td>\n",
       "      <td>1988</td>\n",
       "      <td>[1988]</td>\n",
       "      <td>True</td>\n",
       "    </tr>\n",
       "    <tr>\n",
       "      <th>4</th>\n",
       "      <td>the chihuahua is a breed of dog believed to or...</td>\n",
       "      <td>[Mexico]</td>\n",
       "      <td>Mexico</td>\n",
       "      <td>[Mexico]</td>\n",
       "      <td>True</td>\n",
       "    </tr>\n",
       "    <tr>\n",
       "      <th>5</th>\n",
       "      <td>actor who plays steve on days of our lives</td>\n",
       "      <td>[Stephen Nichols]</td>\n",
       "      <td>Steve Johnson</td>\n",
       "      <td>[Stephen Nichols]</td>\n",
       "      <td>False</td>\n",
       "    </tr>\n",
       "    <tr>\n",
       "      <th>6</th>\n",
       "      <td>who reformed the athenian constitution into a ...</td>\n",
       "      <td>[Solon]</td>\n",
       "      <td>Cleisthenes</td>\n",
       "      <td>[Solon]</td>\n",
       "      <td>False</td>\n",
       "    </tr>\n",
       "    <tr>\n",
       "      <th>7</th>\n",
       "      <td>what is the name of the european weather model</td>\n",
       "      <td>[Integrated Forecast System]</td>\n",
       "      <td>European Center for Medium Range Weather Forec...</td>\n",
       "      <td>[Integrated Forecast System]</td>\n",
       "      <td>False</td>\n",
       "    </tr>\n",
       "    <tr>\n",
       "      <th>8</th>\n",
       "      <td>where does the money from pch come from</td>\n",
       "      <td>[multi-magazine subscription business]</td>\n",
       "      <td>PCH merchandise and magazines</td>\n",
       "      <td>[multi-magazine subscription business]</td>\n",
       "      <td>False</td>\n",
       "    </tr>\n",
       "    <tr>\n",
       "      <th>9</th>\n",
       "      <td>who plays chloe valentine in be more chill</td>\n",
       "      <td>[Katlyn Carlson]</td>\n",
       "      <td>Katlyn</td>\n",
       "      <td>[Katlyn Carlson]</td>\n",
       "      <td>False</td>\n",
       "    </tr>\n",
       "    <tr>\n",
       "      <th>10</th>\n",
       "      <td>who was the viceroy of india when delhi became...</td>\n",
       "      <td>[Lord Irwin]</td>\n",
       "      <td>Lord Irwin</td>\n",
       "      <td>[Lord Irwin]</td>\n",
       "      <td>True</td>\n",
       "    </tr>\n",
       "    <tr>\n",
       "      <th>11</th>\n",
       "      <td>which german state benefited most from the ter...</td>\n",
       "      <td>[German Kingdoms of Hanover]</td>\n",
       "      <td>Austria and Prussia</td>\n",
       "      <td>[German Kingdoms of Hanover]</td>\n",
       "      <td>False</td>\n",
       "    </tr>\n",
       "    <tr>\n",
       "      <th>12</th>\n",
       "      <td>who sings the song everybody walk the dinosaur</td>\n",
       "      <td>[Was (Not Was)]</td>\n",
       "      <td>Was Not Was</td>\n",
       "      <td>[Was Not Was]</td>\n",
       "      <td>True</td>\n",
       "    </tr>\n",
       "    <tr>\n",
       "      <th>13</th>\n",
       "      <td>who is the composer of eine kleine nachtmusik</td>\n",
       "      <td>[Wolfgang Amadeus Mozart]</td>\n",
       "      <td>Wolfgang Amadeus Mozart</td>\n",
       "      <td>[Wolfgang Amadeus Mozart]</td>\n",
       "      <td>True</td>\n",
       "    </tr>\n",
       "    <tr>\n",
       "      <th>14</th>\n",
       "      <td>who are the candidates running for president i...</td>\n",
       "      <td>[Jaime Rodríguez Calderón, Andrés Manuel López...</td>\n",
       "      <td>Claudia Sheinbaum</td>\n",
       "      <td>[Jaime Rodríguez Calderón, Andrés Manuel López...</td>\n",
       "      <td>False</td>\n",
       "    </tr>\n",
       "  </tbody>\n",
       "</table>\n",
       "</div>"
      ],
      "text/plain": [
       "                                             question  \\\n",
       "0      when did the first episode of breaking bad air   \n",
       "1           how many house of cards seasons are there   \n",
       "2   which festival is a worship of the god of powe...   \n",
       "3            when was the first land before time made   \n",
       "4   the chihuahua is a breed of dog believed to or...   \n",
       "5          actor who plays steve on days of our lives   \n",
       "6   who reformed the athenian constitution into a ...   \n",
       "7      what is the name of the european weather model   \n",
       "8             where does the money from pch come from   \n",
       "9          who plays chloe valentine in be more chill   \n",
       "10  who was the viceroy of india when delhi became...   \n",
       "11  which german state benefited most from the ter...   \n",
       "12     who sings the song everybody walk the dinosaur   \n",
       "13      who is the composer of eine kleine nachtmusik   \n",
       "14  who are the candidates running for president i...   \n",
       "\n",
       "                                               answer  \\\n",
       "0                                  [January 20, 2008]   \n",
       "1                                                 [5]   \n",
       "2                                             [Karam]   \n",
       "3                                              [1988]   \n",
       "4                                            [Mexico]   \n",
       "5                                   [Stephen Nichols]   \n",
       "6                                             [Solon]   \n",
       "7                        [Integrated Forecast System]   \n",
       "8              [multi-magazine subscription business]   \n",
       "9                                    [Katlyn Carlson]   \n",
       "10                                       [Lord Irwin]   \n",
       "11                       [German Kingdoms of Hanover]   \n",
       "12                                    [Was (Not Was)]   \n",
       "13                          [Wolfgang Amadeus Mozart]   \n",
       "14  [Jaime Rodríguez Calderón, Andrés Manuel López...   \n",
       "\n",
       "                                           QA_answers  \\\n",
       "0                                     January 20 2008   \n",
       "1                                                   6   \n",
       "2                                         Karam Devta   \n",
       "3                                                1988   \n",
       "4                                              Mexico   \n",
       "5                                       Steve Johnson   \n",
       "6                                         Cleisthenes   \n",
       "7   European Center for Medium Range Weather Forec...   \n",
       "8                       PCH merchandise and magazines   \n",
       "9                                              Katlyn   \n",
       "10                                         Lord Irwin   \n",
       "11                                Austria and Prussia   \n",
       "12                                        Was Not Was   \n",
       "13                            Wolfgang Amadeus Mozart   \n",
       "14                                  Claudia Sheinbaum   \n",
       "\n",
       "                                       answer_cleaned  score  \n",
       "0                                   [January 20 2008]   True  \n",
       "1                                                 [5]  False  \n",
       "2                                             [Karam]  False  \n",
       "3                                              [1988]   True  \n",
       "4                                            [Mexico]   True  \n",
       "5                                   [Stephen Nichols]  False  \n",
       "6                                             [Solon]  False  \n",
       "7                        [Integrated Forecast System]  False  \n",
       "8              [multi-magazine subscription business]  False  \n",
       "9                                    [Katlyn Carlson]  False  \n",
       "10                                       [Lord Irwin]   True  \n",
       "11                       [German Kingdoms of Hanover]  False  \n",
       "12                                      [Was Not Was]   True  \n",
       "13                          [Wolfgang Amadeus Mozart]   True  \n",
       "14  [Jaime Rodríguez Calderón, Andrés Manuel López...  False  "
      ]
     },
     "execution_count": 15,
     "metadata": {},
     "output_type": "execute_result"
    }
   ],
   "source": [
    "df_eval"
   ]
  },
  {
   "cell_type": "code",
   "execution_count": 16,
   "metadata": {},
   "outputs": [
    {
     "data": {
      "text/plain": [
       "0.4"
      ]
     },
     "execution_count": 16,
     "metadata": {},
     "output_type": "execute_result"
    }
   ],
   "source": [
    "df_eval.score.sum()/len(df_eval)\n",
    "\n"
   ]
  },
  {
   "cell_type": "code",
   "execution_count": 222,
   "metadata": {},
   "outputs": [],
   "source": [
    "from difflib import SequenceMatcher\n"
   ]
  },
  {
   "cell_type": "code",
   "execution_count": 223,
   "metadata": {},
   "outputs": [
    {
     "name": "stderr",
     "output_type": "stream",
     "text": [
      "C:\\Users\\moham\\AppData\\Local\\Temp\\ipykernel_27524\\2450165486.py:1: SettingWithCopyWarning: \n",
      "A value is trying to be set on a copy of a slice from a DataFrame.\n",
      "Try using .loc[row_indexer,col_indexer] = value instead\n",
      "\n",
      "See the caveats in the documentation: https://pandas.pydata.org/pandas-docs/stable/user_guide/indexing.html#returning-a-view-versus-a-copy\n",
      "  df_eval['answer_cleaned_text'] = df_eval.answer_cleaned.apply(lambda x : ' '.join(x).lstrip())\n"
     ]
    }
   ],
   "source": [
    "df_eval['answer_cleaned_text'] = df_eval.answer_cleaned.apply(lambda x : ' '.join(x).lstrip())"
   ]
  },
  {
   "cell_type": "code",
   "execution_count": 227,
   "metadata": {},
   "outputs": [],
   "source": [
    "def calculate_similarity(word1, word2):\n",
    "    \"\"\"\n",
    "    Calculate the similarity rate between two words based on SequenceMatcher.\n",
    "    \n",
    "    Args:\n",
    "        word1 (str): The first word.\n",
    "        word2 (str): The second word.\n",
    "    \n",
    "    Returns:\n",
    "        float: Similarity rate between 0.0 (no similarity) and 1.0 (exact match).\n",
    "    \"\"\"\n",
    "    return SequenceMatcher(None, word1, word2).ratio()"
   ]
  },
  {
   "cell_type": "code",
   "execution_count": 228,
   "metadata": {},
   "outputs": [
    {
     "name": "stderr",
     "output_type": "stream",
     "text": [
      "C:\\Users\\moham\\AppData\\Local\\Temp\\ipykernel_27524\\3848946917.py:4: SettingWithCopyWarning: \n",
      "A value is trying to be set on a copy of a slice from a DataFrame.\n",
      "Try using .loc[row_indexer,col_indexer] = value instead\n",
      "\n",
      "See the caveats in the documentation: https://pandas.pydata.org/pandas-docs/stable/user_guide/indexing.html#returning-a-view-versus-a-copy\n",
      "  df_eval['levenshtein_score'] = df_eval.apply(lambda row : calculate_similarity(row.QA_answers,row.answer_cleaned_text) , axis = 'columns')\n"
     ]
    }
   ],
   "source": [
    "from difflib import SequenceMatcher\n",
    "\n",
    "\n",
    "df_eval['levenshtein_score'] = df_eval.apply(lambda row : calculate_similarity(row.QA_answers,row.answer_cleaned_text) , axis = 'columns')\n"
   ]
  },
  {
   "cell_type": "code",
   "execution_count": 234,
   "metadata": {},
   "outputs": [
    {
     "data": {
      "text/html": [
       "<div>\n",
       "<style scoped>\n",
       "    .dataframe tbody tr th:only-of-type {\n",
       "        vertical-align: middle;\n",
       "    }\n",
       "\n",
       "    .dataframe tbody tr th {\n",
       "        vertical-align: top;\n",
       "    }\n",
       "\n",
       "    .dataframe thead th {\n",
       "        text-align: right;\n",
       "    }\n",
       "</style>\n",
       "<table border=\"1\" class=\"dataframe\">\n",
       "  <thead>\n",
       "    <tr style=\"text-align: right;\">\n",
       "      <th></th>\n",
       "      <th>question</th>\n",
       "      <th>answer</th>\n",
       "      <th>QA_answers</th>\n",
       "      <th>answer_cleaned</th>\n",
       "      <th>score</th>\n",
       "      <th>answer_cleaned_text</th>\n",
       "      <th>levenshtein_score</th>\n",
       "    </tr>\n",
       "  </thead>\n",
       "  <tbody>\n",
       "    <tr>\n",
       "      <th>0</th>\n",
       "      <td>when did the first episode of breaking bad air</td>\n",
       "      <td>[January 20, 2008]</td>\n",
       "      <td>January 20 2008</td>\n",
       "      <td>[January 20 2008]</td>\n",
       "      <td>True</td>\n",
       "      <td>January 20 2008</td>\n",
       "      <td>1.000000</td>\n",
       "    </tr>\n",
       "    <tr>\n",
       "      <th>1</th>\n",
       "      <td>how many house of cards seasons are there</td>\n",
       "      <td>[5]</td>\n",
       "      <td>House of Cards season 6</td>\n",
       "      <td>[5]</td>\n",
       "      <td>False</td>\n",
       "      <td>5</td>\n",
       "      <td>0.000000</td>\n",
       "    </tr>\n",
       "    <tr>\n",
       "      <th>2</th>\n",
       "      <td>which festival is a worship of the god of powe...</td>\n",
       "      <td>[Karam]</td>\n",
       "      <td>Karam Devta</td>\n",
       "      <td>[Karam]</td>\n",
       "      <td>False</td>\n",
       "      <td>Karam</td>\n",
       "      <td>0.625000</td>\n",
       "    </tr>\n",
       "    <tr>\n",
       "      <th>3</th>\n",
       "      <td>when was the first land before time made</td>\n",
       "      <td>[1988]</td>\n",
       "      <td>1988</td>\n",
       "      <td>[1988]</td>\n",
       "      <td>True</td>\n",
       "      <td>1988</td>\n",
       "      <td>1.000000</td>\n",
       "    </tr>\n",
       "    <tr>\n",
       "      <th>4</th>\n",
       "      <td>the chihuahua is a breed of dog believed to or...</td>\n",
       "      <td>[Mexico]</td>\n",
       "      <td>Mexico</td>\n",
       "      <td>[Mexico]</td>\n",
       "      <td>True</td>\n",
       "      <td>Mexico</td>\n",
       "      <td>1.000000</td>\n",
       "    </tr>\n",
       "    <tr>\n",
       "      <th>5</th>\n",
       "      <td>actor who plays steve on days of our lives</td>\n",
       "      <td>[Stephen Nichols]</td>\n",
       "      <td>Steve Patch Johnson</td>\n",
       "      <td>[Stephen Nichols]</td>\n",
       "      <td>False</td>\n",
       "      <td>Stephen Nichols</td>\n",
       "      <td>0.529412</td>\n",
       "    </tr>\n",
       "    <tr>\n",
       "      <th>6</th>\n",
       "      <td>who reformed the athenian constitution into a ...</td>\n",
       "      <td>[Solon]</td>\n",
       "      <td>Cleisthenes</td>\n",
       "      <td>[Solon]</td>\n",
       "      <td>False</td>\n",
       "      <td>Solon</td>\n",
       "      <td>0.250000</td>\n",
       "    </tr>\n",
       "    <tr>\n",
       "      <th>7</th>\n",
       "      <td>what is the name of the european weather model</td>\n",
       "      <td>[Integrated Forecast System]</td>\n",
       "      <td>European Center for Medium Range Weather Forec...</td>\n",
       "      <td>[Integrated Forecast System]</td>\n",
       "      <td>False</td>\n",
       "      <td>Integrated Forecast System</td>\n",
       "      <td>0.421053</td>\n",
       "    </tr>\n",
       "    <tr>\n",
       "      <th>8</th>\n",
       "      <td>where does the money from pch come from</td>\n",
       "      <td>[multi-magazine subscription business]</td>\n",
       "      <td>PCH merchandise and magazines</td>\n",
       "      <td>[multi-magazine subscription business]</td>\n",
       "      <td>False</td>\n",
       "      <td>multi-magazine subscription business</td>\n",
       "      <td>0.338462</td>\n",
       "    </tr>\n",
       "    <tr>\n",
       "      <th>9</th>\n",
       "      <td>who plays chloe valentine in be more chill</td>\n",
       "      <td>[Katlyn Carlson]</td>\n",
       "      <td>Katlyn Carlson</td>\n",
       "      <td>[Katlyn Carlson]</td>\n",
       "      <td>True</td>\n",
       "      <td>Katlyn Carlson</td>\n",
       "      <td>1.000000</td>\n",
       "    </tr>\n",
       "    <tr>\n",
       "      <th>10</th>\n",
       "      <td>who was the viceroy of india when delhi became...</td>\n",
       "      <td>[Lord Irwin]</td>\n",
       "      <td>Lord Irwin</td>\n",
       "      <td>[Lord Irwin]</td>\n",
       "      <td>True</td>\n",
       "      <td>Lord Irwin</td>\n",
       "      <td>1.000000</td>\n",
       "    </tr>\n",
       "    <tr>\n",
       "      <th>11</th>\n",
       "      <td>which german state benefited most from the ter...</td>\n",
       "      <td>[German Kingdoms of Hanover]</td>\n",
       "      <td>Germany</td>\n",
       "      <td>[German Kingdoms of Hanover]</td>\n",
       "      <td>False</td>\n",
       "      <td>German Kingdoms of Hanover</td>\n",
       "      <td>0.363636</td>\n",
       "    </tr>\n",
       "    <tr>\n",
       "      <th>12</th>\n",
       "      <td>who sings the song everybody walk the dinosaur</td>\n",
       "      <td>[Was (Not Was)]</td>\n",
       "      <td>Was Not Was</td>\n",
       "      <td>[Was Not Was]</td>\n",
       "      <td>True</td>\n",
       "      <td>Was Not Was</td>\n",
       "      <td>1.000000</td>\n",
       "    </tr>\n",
       "    <tr>\n",
       "      <th>13</th>\n",
       "      <td>who is the composer of eine kleine nachtmusik</td>\n",
       "      <td>[Wolfgang Amadeus Mozart]</td>\n",
       "      <td>Wolfgang Amadeus Mozart</td>\n",
       "      <td>[Wolfgang Amadeus Mozart]</td>\n",
       "      <td>True</td>\n",
       "      <td>Wolfgang Amadeus Mozart</td>\n",
       "      <td>1.000000</td>\n",
       "    </tr>\n",
       "    <tr>\n",
       "      <th>14</th>\n",
       "      <td>who are the candidates running for president i...</td>\n",
       "      <td>[Jaime Rodríguez Calderón, Andrés Manuel López...</td>\n",
       "      <td>Claudia Sheinbaum</td>\n",
       "      <td>[Jaime Rodríguez Calderón, Andrés Manuel López...</td>\n",
       "      <td>False</td>\n",
       "      <td>Jaime Rodríguez Calderón Andrés Manuel López O...</td>\n",
       "      <td>0.201681</td>\n",
       "    </tr>\n",
       "  </tbody>\n",
       "</table>\n",
       "</div>"
      ],
      "text/plain": [
       "                                             question  \\\n",
       "0      when did the first episode of breaking bad air   \n",
       "1           how many house of cards seasons are there   \n",
       "2   which festival is a worship of the god of powe...   \n",
       "3            when was the first land before time made   \n",
       "4   the chihuahua is a breed of dog believed to or...   \n",
       "5          actor who plays steve on days of our lives   \n",
       "6   who reformed the athenian constitution into a ...   \n",
       "7      what is the name of the european weather model   \n",
       "8             where does the money from pch come from   \n",
       "9          who plays chloe valentine in be more chill   \n",
       "10  who was the viceroy of india when delhi became...   \n",
       "11  which german state benefited most from the ter...   \n",
       "12     who sings the song everybody walk the dinosaur   \n",
       "13      who is the composer of eine kleine nachtmusik   \n",
       "14  who are the candidates running for president i...   \n",
       "\n",
       "                                               answer  \\\n",
       "0                                  [January 20, 2008]   \n",
       "1                                                 [5]   \n",
       "2                                             [Karam]   \n",
       "3                                              [1988]   \n",
       "4                                            [Mexico]   \n",
       "5                                   [Stephen Nichols]   \n",
       "6                                             [Solon]   \n",
       "7                        [Integrated Forecast System]   \n",
       "8              [multi-magazine subscription business]   \n",
       "9                                    [Katlyn Carlson]   \n",
       "10                                       [Lord Irwin]   \n",
       "11                       [German Kingdoms of Hanover]   \n",
       "12                                    [Was (Not Was)]   \n",
       "13                          [Wolfgang Amadeus Mozart]   \n",
       "14  [Jaime Rodríguez Calderón, Andrés Manuel López...   \n",
       "\n",
       "                                           QA_answers  \\\n",
       "0                                     January 20 2008   \n",
       "1                             House of Cards season 6   \n",
       "2                                         Karam Devta   \n",
       "3                                                1988   \n",
       "4                                              Mexico   \n",
       "5                                 Steve Patch Johnson   \n",
       "6                                         Cleisthenes   \n",
       "7   European Center for Medium Range Weather Forec...   \n",
       "8                       PCH merchandise and magazines   \n",
       "9                                      Katlyn Carlson   \n",
       "10                                         Lord Irwin   \n",
       "11                                            Germany   \n",
       "12                                        Was Not Was   \n",
       "13                            Wolfgang Amadeus Mozart   \n",
       "14                                  Claudia Sheinbaum   \n",
       "\n",
       "                                       answer_cleaned  score  \\\n",
       "0                                   [January 20 2008]   True   \n",
       "1                                                 [5]  False   \n",
       "2                                             [Karam]  False   \n",
       "3                                              [1988]   True   \n",
       "4                                            [Mexico]   True   \n",
       "5                                   [Stephen Nichols]  False   \n",
       "6                                             [Solon]  False   \n",
       "7                        [Integrated Forecast System]  False   \n",
       "8              [multi-magazine subscription business]  False   \n",
       "9                                    [Katlyn Carlson]   True   \n",
       "10                                       [Lord Irwin]   True   \n",
       "11                       [German Kingdoms of Hanover]  False   \n",
       "12                                      [Was Not Was]   True   \n",
       "13                          [Wolfgang Amadeus Mozart]   True   \n",
       "14  [Jaime Rodríguez Calderón, Andrés Manuel López...  False   \n",
       "\n",
       "                                  answer_cleaned_text  levenshtein_score  \n",
       "0                                     January 20 2008           1.000000  \n",
       "1                                                   5           0.000000  \n",
       "2                                               Karam           0.625000  \n",
       "3                                                1988           1.000000  \n",
       "4                                              Mexico           1.000000  \n",
       "5                                     Stephen Nichols           0.529412  \n",
       "6                                               Solon           0.250000  \n",
       "7                          Integrated Forecast System           0.421053  \n",
       "8                multi-magazine subscription business           0.338462  \n",
       "9                                      Katlyn Carlson           1.000000  \n",
       "10                                         Lord Irwin           1.000000  \n",
       "11                         German Kingdoms of Hanover           0.363636  \n",
       "12                                        Was Not Was           1.000000  \n",
       "13                            Wolfgang Amadeus Mozart           1.000000  \n",
       "14  Jaime Rodríguez Calderón Andrés Manuel López O...           0.201681  "
      ]
     },
     "execution_count": 234,
     "metadata": {},
     "output_type": "execute_result"
    }
   ],
   "source": [
    "df_eval"
   ]
  }
 ],
 "metadata": {
  "kernelspec": {
   "display_name": "pdi",
   "language": "python",
   "name": "python3"
  },
  "language_info": {
   "codemirror_mode": {
    "name": "ipython",
    "version": 3
   },
   "file_extension": ".py",
   "mimetype": "text/x-python",
   "name": "python",
   "nbconvert_exporter": "python",
   "pygments_lexer": "ipython3",
   "version": "3.11.0"
  }
 },
 "nbformat": 4,
 "nbformat_minor": 2
}
