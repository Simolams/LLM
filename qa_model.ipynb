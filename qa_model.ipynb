{
 "cells": [
  {
   "cell_type": "code",
   "execution_count": 1,
   "metadata": {},
   "outputs": [
    {
     "name": "stderr",
     "output_type": "stream",
     "text": [
      "c:\\ProgramData\\Anaconda3\\envs\\pdi\\Lib\\site-packages\\tqdm\\auto.py:21: TqdmWarning: IProgress not found. Please update jupyter and ipywidgets. See https://ipywidgets.readthedocs.io/en/stable/user_install.html\n",
      "  from .autonotebook import tqdm as notebook_tqdm\n"
     ]
    }
   ],
   "source": [
    "import utils\n",
    "\n",
    "from utils import *"
   ]
  },
  {
   "cell_type": "code",
   "execution_count": 2,
   "metadata": {},
   "outputs": [],
   "source": [
    "df = pd.read_pickle(\"nq_open_sample.pkl\")"
   ]
  },
  {
   "cell_type": "code",
   "execution_count": 3,
   "metadata": {},
   "outputs": [
    {
     "name": "stdout",
     "output_type": "stream",
     "text": [
      "['Paris French pronunciation ⓘ is the capital and largest city of FranceWith an estimated population of 2048472 residents in January 2025 3 in an area of more than 105 km 2 41 sq mi 4 Paris is the fourthmost populous city in the European Union the ninthmost populous city in Europe and the 30th most densely populated city in the world in 2022 5', 'Paris city and capital of France located along the Seine River in the northcentral part of the country Paris is one of the worlds most important and attractive cities famed for its gastronomy haute couture painting literature and intellectual community Learn more about Paris in this article', 'As the capital city of France the city plays host to the national government of France Even the official residence of the president is in the city at the Élysée Palace while the Prime Minister is housed at the Hôtel Matignon The Senate or the upper house meets at the Palais du Luxembourg while the Palais Bourbon is the meeting point for ', 'France a country of northwestern Europe is historically and culturally among the most important countries in the Western world It has also played a highly significant role in international affairs for centuries Its capital is Paris one of the most important cultural and commercial centers in the world', 'Paris the capital of France is located in the northcentral portion of the country It constitutes one of the départements of the ÎledeFrance administrative region and is Frances most important centre of commerce and culture The city is home to the Eiffel Tower one of the worlds premier tourist attractions which opened to the public on May 15 1889', 'Answer The capital of France is Paris which is located in the northcentral part of the country Paris is also referred to as the City of Light La Ville Lumière Paris is also a global center for art fashion culture and history Paris is renowned for its iconic landmarks including the Eiffe', 'Paris is the capital of France Also known as the City of Light is not only the capital but also the most populous city of France Paris is renowned globally for its art fashion gastronomy and culture Paris the capital city of France Paris has been an important hub of commerce finance science music and philosophy', 'For the current capital see Paris The capital of France is Paris 1 In the course of history the national capital has been in many locations other than Paris History List of capitals of France Tournai before 486 Soissons 486ca 900 Paris 9001419 The residence of ', 'Paris is the capital city of France situated on the River Seine in northern France at the heart of the ÎledeFrance region Région parisienneThe Paris aire urbaine roughly metropolitan area is one of the most populated areas of its kind in Europe with a population of roughly 12 million including 10 million in the Paris urban area plus the population of the commuter belt ', 'Paris  p a ʁ i  a Écouter est la capitale de la France 1 et une collectivité à statut particulierDivisée en vingt arrondissements elle est le cheflieu de la région ÎledeFrance et le siège de la métropole du Grand Paris Paris est situé au centre du Bassin parisien sur une boucle de la Seine entre les confluents avec la Marne et lOiseLe site est occupé à partir du ']\n"
     ]
    }
   ],
   "source": [
    "content = search_google(\"what is the capital of France ?\")\n",
    "print(content)"
   ]
  },
  {
   "cell_type": "markdown",
   "metadata": {},
   "source": [
    "## QA model exploration \n"
   ]
  },
  {
   "cell_type": "code",
   "execution_count": 3,
   "metadata": {},
   "outputs": [
    {
     "name": "stdout",
     "output_type": "stream",
     "text": [
      "WARNING:tensorflow:From c:\\ProgramData\\Anaconda3\\envs\\pdi\\Lib\\site-packages\\tf_keras\\src\\losses.py:2976: The name tf.losses.sparse_softmax_cross_entropy is deprecated. Please use tf.compat.v1.losses.sparse_softmax_cross_entropy instead.\n",
      "\n"
     ]
    },
    {
     "name": "stderr",
     "output_type": "stream",
     "text": [
      "Device set to use cpu\n"
     ]
    }
   ],
   "source": [
    "qa_model = pipeline(\"question-answering\", \"timpal0l/mdeberta-v3-base-squad2\")"
   ]
  },
  {
   "cell_type": "code",
   "execution_count": 13,
   "metadata": {},
   "outputs": [],
   "source": [
    "## Parallelization\n",
    "i = 0\n",
    "question = df.question.iloc[i]\n",
    "contexts = search_google(question)\n",
    "\n",
    "# Create a batch of inputs\n",
    "batch = [{\"question\": question, \"context\": context} for context in contexts]\n",
    "\n",
    "# Use the model to process the batch\n",
    "results = qa_model(batch)"
   ]
  },
  {
   "cell_type": "code",
   "execution_count": 14,
   "metadata": {},
   "outputs": [
    {
     "name": "stdout",
     "output_type": "stream",
     "text": [
      "[{'score': 0.967254102230072, 'start': 243, 'end': 259, 'answer': ' January 20 2008'}, {'score': 0.5515692830085754, 'start': 82, 'end': 98, 'answer': ' January 20 2008'}, {'score': 0.008839488960802555, 'start': 142, 'end': 148, 'answer': ' Pilot'}, {'score': 0.8483574986457825, 'start': 32, 'end': 48, 'answer': ' January 20 2008'}, {'score': 7.328493666136637e-06, 'start': 0, 'end': 5, 'answer': 'Pilot'}, {'score': 0.8839160203933716, 'start': 2, 'end': 18, 'answer': ' January 20 2008'}, {'score': 0.28676703572273254, 'start': 223, 'end': 233, 'answer': ' 20 Jan 08'}, {'score': 0.4222308099269867, 'start': 224, 'end': 249, 'answer': ' Sunday January 20th 2008'}, {'score': 0.37294483184814453, 'start': 24, 'end': 40, 'answer': ' January 20 2008'}, {'score': 0.01722080446779728, 'start': 346, 'end': 386, 'answer': ' The days in which the episodes occurred'}]\n"
     ]
    }
   ],
   "source": [
    "print(results)"
   ]
  },
  {
   "cell_type": "markdown",
   "metadata": {},
   "source": [
    "## Model evaluation "
   ]
  },
  {
   "cell_type": "code",
   "execution_count": null,
   "metadata": {},
   "outputs": [],
   "source": []
  },
  {
   "cell_type": "code",
   "execution_count": 19,
   "metadata": {},
   "outputs": [
    {
     "ename": "DuckDuckGoSearchException",
     "evalue": "https://html.duckduckgo.com/html 202 Ratelimit",
     "output_type": "error",
     "traceback": [
      "\u001b[1;31m---------------------------------------------------------------------------\u001b[0m",
      "\u001b[1;31mDuckDuckGoSearchException\u001b[0m                 Traceback (most recent call last)",
      "Cell \u001b[1;32mIn[19], line 1\u001b[0m\n\u001b[1;32m----> 1\u001b[0m \u001b[43mQA_answer\u001b[49m\u001b[43m(\u001b[49m\u001b[38;5;124;43m'\u001b[39;49m\u001b[38;5;124;43mWhere work Mehdi Dahmani\u001b[39;49m\u001b[38;5;124;43m'\u001b[39;49m\u001b[43m,\u001b[49m\u001b[43mqa_model\u001b[49m\u001b[43m,\u001b[49m\u001b[38;5;28;43;01mFalse\u001b[39;49;00m\u001b[43m)\u001b[49m\n",
      "File \u001b[1;32mc:\\Users\\Ben\\ProjetDL\\utils.py:46\u001b[0m, in \u001b[0;36mQA_answer\u001b[1;34m(query, qa_model, best_score)\u001b[0m\n\u001b[0;32m     43\u001b[0m \u001b[38;5;28;01mdef\u001b[39;00m \u001b[38;5;21mQA_answer\u001b[39m(query,qa_model,best_score\u001b[38;5;241m=\u001b[39m\u001b[38;5;28;01mFalse\u001b[39;00m):\n\u001b[0;32m     44\u001b[0m \n\u001b[0;32m     45\u001b[0m     \u001b[38;5;66;03m## Parallelization\u001b[39;00m\n\u001b[1;32m---> 46\u001b[0m     contexts \u001b[38;5;241m=\u001b[39m \u001b[43msearch_google\u001b[49m\u001b[43m(\u001b[49m\u001b[43mquery\u001b[49m\u001b[43m)\u001b[49m\n\u001b[0;32m     47\u001b[0m     \u001b[38;5;66;03m# Create a batch of inputs\u001b[39;00m\n\u001b[0;32m     48\u001b[0m     batch \u001b[38;5;241m=\u001b[39m [{\u001b[38;5;124m\"\u001b[39m\u001b[38;5;124mquestion\u001b[39m\u001b[38;5;124m\"\u001b[39m: query, \u001b[38;5;124m\"\u001b[39m\u001b[38;5;124mcontext\u001b[39m\u001b[38;5;124m\"\u001b[39m: context} \u001b[38;5;28;01mfor\u001b[39;00m context \u001b[38;5;129;01min\u001b[39;00m contexts]\n",
      "File \u001b[1;32mc:\\Users\\Ben\\ProjetDL\\utils.py:18\u001b[0m, in \u001b[0;36msearch_google\u001b[1;34m(query)\u001b[0m\n\u001b[0;32m     14\u001b[0m \u001b[38;5;28;01mdef\u001b[39;00m \u001b[38;5;21msearch_google\u001b[39m(query):\n\u001b[0;32m     15\u001b[0m \n\u001b[0;32m     16\u001b[0m     \u001b[38;5;66;03m#content = \"\"\u001b[39;00m\n\u001b[0;32m     17\u001b[0m     content \u001b[38;5;241m=\u001b[39m []\n\u001b[1;32m---> 18\u001b[0m     results \u001b[38;5;241m=\u001b[39m \u001b[43mDDGS\u001b[49m\u001b[43m(\u001b[49m\u001b[43m)\u001b[49m\u001b[38;5;241;43m.\u001b[39;49m\u001b[43mtext\u001b[49m\u001b[43m(\u001b[49m\u001b[43mquery\u001b[49m\u001b[43m,\u001b[49m\u001b[43m \u001b[49m\u001b[43mmax_results\u001b[49m\u001b[38;5;241;43m=\u001b[39;49m\u001b[38;5;241;43m10\u001b[39;49m\u001b[43m)\u001b[49m\n\u001b[0;32m     20\u001b[0m     \u001b[38;5;28;01mfor\u001b[39;00m text \u001b[38;5;129;01min\u001b[39;00m results : \n\u001b[0;32m     21\u001b[0m         \u001b[38;5;66;03m#content+=\"\\n\"+text['body']\u001b[39;00m\n\u001b[0;32m     22\u001b[0m         sub_text \u001b[38;5;241m=\u001b[39m re\u001b[38;5;241m.\u001b[39msub(\u001b[38;5;124mr\u001b[39m\u001b[38;5;124m'\u001b[39m\u001b[38;5;124m([^\u001b[39m\u001b[38;5;124m\\\u001b[39m\u001b[38;5;124ms\u001b[39m\u001b[38;5;124m\\\u001b[39m\u001b[38;5;124mw]|_)+\u001b[39m\u001b[38;5;124m'\u001b[39m, \u001b[38;5;124m'\u001b[39m\u001b[38;5;124m'\u001b[39m, text[\u001b[38;5;124m'\u001b[39m\u001b[38;5;124mbody\u001b[39m\u001b[38;5;124m'\u001b[39m])\n",
      "File \u001b[1;32mc:\\ProgramData\\Anaconda3\\envs\\pdi\\Lib\\site-packages\\duckduckgo_search\\duckduckgo_search.py:253\u001b[0m, in \u001b[0;36mDDGS.text\u001b[1;34m(self, keywords, region, safesearch, timelimit, backend, max_results)\u001b[0m\n\u001b[0;32m    250\u001b[0m         logger\u001b[38;5;241m.\u001b[39minfo(\u001b[38;5;124mf\u001b[39m\u001b[38;5;124m\"\u001b[39m\u001b[38;5;124mError to search using \u001b[39m\u001b[38;5;132;01m{\u001b[39;00mb\u001b[38;5;132;01m}\u001b[39;00m\u001b[38;5;124m backend: \u001b[39m\u001b[38;5;132;01m{\u001b[39;00mex\u001b[38;5;132;01m}\u001b[39;00m\u001b[38;5;124m\"\u001b[39m)\n\u001b[0;32m    251\u001b[0m         err \u001b[38;5;241m=\u001b[39m ex\n\u001b[1;32m--> 253\u001b[0m \u001b[38;5;28;01mraise\u001b[39;00m DuckDuckGoSearchException(err)\n",
      "\u001b[1;31mDuckDuckGoSearchException\u001b[0m: https://html.duckduckgo.com/html 202 Ratelimit"
     ]
    }
   ],
   "source": [
    "QA_answer('Where work Mehdi Dahmani',qa_model,False)"
   ]
  },
  {
   "cell_type": "code",
   "execution_count": 5,
   "metadata": {},
   "outputs": [],
   "source": [
    "df_eval = df.iloc[:15]"
   ]
  },
  {
   "cell_type": "code",
   "execution_count": 16,
   "metadata": {},
   "outputs": [
    {
     "name": "stderr",
     "output_type": "stream",
     "text": [
      "C:\\Users\\moham\\AppData\\Local\\Temp\\ipykernel_17552\\1770330120.py:1: SettingWithCopyWarning: \n",
      "A value is trying to be set on a copy of a slice from a DataFrame.\n",
      "Try using .loc[row_indexer,col_indexer] = value instead\n",
      "\n",
      "See the caveats in the documentation: https://pandas.pydata.org/pandas-docs/stable/user_guide/indexing.html#returning-a-view-versus-a-copy\n",
      "  df_eval['answer_cleaned'] = df_eval.answer.apply(lambda x : clean(x))\n"
     ]
    }
   ],
   "source": [
    "df_eval['answer_cleaned'] = df_eval.answer.apply(lambda x : clean(x))"
   ]
  },
  {
   "cell_type": "code",
   "execution_count": 17,
   "metadata": {},
   "outputs": [
    {
     "name": "stderr",
     "output_type": "stream",
     "text": [
      "c:\\ProgramData\\Anaconda3\\envs\\pdi\\Lib\\site-packages\\transformers\\pipelines\\question_answering.py:391: FutureWarning: Passing a list of SQuAD examples to the pipeline is deprecated and will be removed in v5. Inputs should be passed using the `question` and `context` keyword arguments instead.\n",
      "  warnings.warn(\n",
      "C:\\Users\\moham\\AppData\\Local\\Temp\\ipykernel_17552\\2963951806.py:1: SettingWithCopyWarning: \n",
      "A value is trying to be set on a copy of a slice from a DataFrame.\n",
      "Try using .loc[row_indexer,col_indexer] = value instead\n",
      "\n",
      "See the caveats in the documentation: https://pandas.pydata.org/pandas-docs/stable/user_guide/indexing.html#returning-a-view-versus-a-copy\n",
      "  df_eval['QA_answers'] = df_eval.question.apply(lambda x : QA_answer(x,qa_model,True))\n"
     ]
    }
   ],
   "source": [
    "df_eval['QA_answers'] = df_eval.question.apply(lambda x : QA_answer(x,qa_model,True))"
   ]
  },
  {
   "cell_type": "code",
   "execution_count": 18,
   "metadata": {},
   "outputs": [
    {
     "data": {
      "text/html": [
       "<div>\n",
       "<style scoped>\n",
       "    .dataframe tbody tr th:only-of-type {\n",
       "        vertical-align: middle;\n",
       "    }\n",
       "\n",
       "    .dataframe tbody tr th {\n",
       "        vertical-align: top;\n",
       "    }\n",
       "\n",
       "    .dataframe thead th {\n",
       "        text-align: right;\n",
       "    }\n",
       "</style>\n",
       "<table border=\"1\" class=\"dataframe\">\n",
       "  <thead>\n",
       "    <tr style=\"text-align: right;\">\n",
       "      <th></th>\n",
       "      <th>question</th>\n",
       "      <th>answer</th>\n",
       "      <th>answer_cleaned</th>\n",
       "      <th>QA_answers</th>\n",
       "    </tr>\n",
       "  </thead>\n",
       "  <tbody>\n",
       "    <tr>\n",
       "      <th>0</th>\n",
       "      <td>when did the first episode of breaking bad air</td>\n",
       "      <td>[January 20, 2008]</td>\n",
       "      <td>[January 20 2008]</td>\n",
       "      <td>January 20 2008</td>\n",
       "    </tr>\n",
       "    <tr>\n",
       "      <th>1</th>\n",
       "      <td>how many house of cards seasons are there</td>\n",
       "      <td>[5]</td>\n",
       "      <td>[5]</td>\n",
       "      <td>6</td>\n",
       "    </tr>\n",
       "    <tr>\n",
       "      <th>2</th>\n",
       "      <td>which festival is a worship of the god of powe...</td>\n",
       "      <td>[Karam]</td>\n",
       "      <td>[Karam]</td>\n",
       "      <td>Karam Devta</td>\n",
       "    </tr>\n",
       "    <tr>\n",
       "      <th>3</th>\n",
       "      <td>when was the first land before time made</td>\n",
       "      <td>[1988]</td>\n",
       "      <td>[1988]</td>\n",
       "      <td>1988</td>\n",
       "    </tr>\n",
       "    <tr>\n",
       "      <th>4</th>\n",
       "      <td>the chihuahua is a breed of dog believed to or...</td>\n",
       "      <td>[Mexico]</td>\n",
       "      <td>[Mexico]</td>\n",
       "      <td>Mexico</td>\n",
       "    </tr>\n",
       "    <tr>\n",
       "      <th>5</th>\n",
       "      <td>actor who plays steve on days of our lives</td>\n",
       "      <td>[Stephen Nichols]</td>\n",
       "      <td>[Stephen Nichols]</td>\n",
       "      <td>Stephen Nichols</td>\n",
       "    </tr>\n",
       "    <tr>\n",
       "      <th>6</th>\n",
       "      <td>who reformed the athenian constitution into a ...</td>\n",
       "      <td>[Solon]</td>\n",
       "      <td>[Solon]</td>\n",
       "      <td>Solon the Athenian</td>\n",
       "    </tr>\n",
       "    <tr>\n",
       "      <th>7</th>\n",
       "      <td>what is the name of the european weather model</td>\n",
       "      <td>[Integrated Forecast System]</td>\n",
       "      <td>[Integrated Forecast System]</td>\n",
       "      <td>European Center for Medium Range Weather Forec...</td>\n",
       "    </tr>\n",
       "    <tr>\n",
       "      <th>8</th>\n",
       "      <td>where does the money from pch come from</td>\n",
       "      <td>[multi-magazine subscription business]</td>\n",
       "      <td>[multi-magazine subscription business]</td>\n",
       "      <td>PCH merchandise and magazines</td>\n",
       "    </tr>\n",
       "    <tr>\n",
       "      <th>9</th>\n",
       "      <td>who plays chloe valentine in be more chill</td>\n",
       "      <td>[Katlyn Carlson]</td>\n",
       "      <td>[Katlyn Carlson]</td>\n",
       "      <td>Katlyn</td>\n",
       "    </tr>\n",
       "    <tr>\n",
       "      <th>10</th>\n",
       "      <td>who was the viceroy of india when delhi became...</td>\n",
       "      <td>[Lord Irwin]</td>\n",
       "      <td>[Lord Irwin]</td>\n",
       "      <td>Lord Irwin</td>\n",
       "    </tr>\n",
       "    <tr>\n",
       "      <th>11</th>\n",
       "      <td>which german state benefited most from the ter...</td>\n",
       "      <td>[German Kingdoms of Hanover]</td>\n",
       "      <td>[German Kingdoms of Hanover]</td>\n",
       "      <td>Austria and Prussia</td>\n",
       "    </tr>\n",
       "    <tr>\n",
       "      <th>12</th>\n",
       "      <td>who sings the song everybody walk the dinosaur</td>\n",
       "      <td>[Was (Not Was)]</td>\n",
       "      <td>[Was Not Was]</td>\n",
       "      <td>Was Not Was</td>\n",
       "    </tr>\n",
       "    <tr>\n",
       "      <th>13</th>\n",
       "      <td>who is the composer of eine kleine nachtmusik</td>\n",
       "      <td>[Wolfgang Amadeus Mozart]</td>\n",
       "      <td>[Wolfgang Amadeus Mozart]</td>\n",
       "      <td>Wolfgang Amadeus Mozart</td>\n",
       "    </tr>\n",
       "    <tr>\n",
       "      <th>14</th>\n",
       "      <td>who are the candidates running for president i...</td>\n",
       "      <td>[Jaime Rodríguez Calderón, Andrés Manuel López...</td>\n",
       "      <td>[Jaime Rodríguez Calderón, Andrés Manuel López...</td>\n",
       "      <td>Claudia Sheinbaum</td>\n",
       "    </tr>\n",
       "  </tbody>\n",
       "</table>\n",
       "</div>"
      ],
      "text/plain": [
       "                                             question  \\\n",
       "0      when did the first episode of breaking bad air   \n",
       "1           how many house of cards seasons are there   \n",
       "2   which festival is a worship of the god of powe...   \n",
       "3            when was the first land before time made   \n",
       "4   the chihuahua is a breed of dog believed to or...   \n",
       "5          actor who plays steve on days of our lives   \n",
       "6   who reformed the athenian constitution into a ...   \n",
       "7      what is the name of the european weather model   \n",
       "8             where does the money from pch come from   \n",
       "9          who plays chloe valentine in be more chill   \n",
       "10  who was the viceroy of india when delhi became...   \n",
       "11  which german state benefited most from the ter...   \n",
       "12     who sings the song everybody walk the dinosaur   \n",
       "13      who is the composer of eine kleine nachtmusik   \n",
       "14  who are the candidates running for president i...   \n",
       "\n",
       "                                               answer  \\\n",
       "0                                  [January 20, 2008]   \n",
       "1                                                 [5]   \n",
       "2                                             [Karam]   \n",
       "3                                              [1988]   \n",
       "4                                            [Mexico]   \n",
       "5                                   [Stephen Nichols]   \n",
       "6                                             [Solon]   \n",
       "7                        [Integrated Forecast System]   \n",
       "8              [multi-magazine subscription business]   \n",
       "9                                    [Katlyn Carlson]   \n",
       "10                                       [Lord Irwin]   \n",
       "11                       [German Kingdoms of Hanover]   \n",
       "12                                    [Was (Not Was)]   \n",
       "13                          [Wolfgang Amadeus Mozart]   \n",
       "14  [Jaime Rodríguez Calderón, Andrés Manuel López...   \n",
       "\n",
       "                                       answer_cleaned  \\\n",
       "0                                   [January 20 2008]   \n",
       "1                                                 [5]   \n",
       "2                                             [Karam]   \n",
       "3                                              [1988]   \n",
       "4                                            [Mexico]   \n",
       "5                                   [Stephen Nichols]   \n",
       "6                                             [Solon]   \n",
       "7                        [Integrated Forecast System]   \n",
       "8              [multi-magazine subscription business]   \n",
       "9                                    [Katlyn Carlson]   \n",
       "10                                       [Lord Irwin]   \n",
       "11                       [German Kingdoms of Hanover]   \n",
       "12                                      [Was Not Was]   \n",
       "13                          [Wolfgang Amadeus Mozart]   \n",
       "14  [Jaime Rodríguez Calderón, Andrés Manuel López...   \n",
       "\n",
       "                                           QA_answers  \n",
       "0                                     January 20 2008  \n",
       "1                                                   6  \n",
       "2                                         Karam Devta  \n",
       "3                                                1988  \n",
       "4                                              Mexico  \n",
       "5                                     Stephen Nichols  \n",
       "6                                  Solon the Athenian  \n",
       "7   European Center for Medium Range Weather Forec...  \n",
       "8                       PCH merchandise and magazines  \n",
       "9                                              Katlyn  \n",
       "10                                         Lord Irwin  \n",
       "11                                Austria and Prussia  \n",
       "12                                        Was Not Was  \n",
       "13                            Wolfgang Amadeus Mozart  \n",
       "14                                  Claudia Sheinbaum  "
      ]
     },
     "execution_count": 18,
     "metadata": {},
     "output_type": "execute_result"
    }
   ],
   "source": [
    "df_eval"
   ]
  }
 ],
 "metadata": {
  "kernelspec": {
   "display_name": "pdi",
   "language": "python",
   "name": "python3"
  },
  "language_info": {
   "codemirror_mode": {
    "name": "ipython",
    "version": 3
   },
   "file_extension": ".py",
   "mimetype": "text/x-python",
   "name": "python",
   "nbconvert_exporter": "python",
   "pygments_lexer": "ipython3",
   "version": "3.11.0"
  }
 },
 "nbformat": 4,
 "nbformat_minor": 2
}
