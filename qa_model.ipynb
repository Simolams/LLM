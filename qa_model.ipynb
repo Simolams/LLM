{
 "cells": [
  {
   "cell_type": "code",
   "execution_count": 35,
   "metadata": {},
   "outputs": [],
   "source": [
    "import utils\n",
    "\n",
    "from utils import *"
   ]
  },
  {
   "cell_type": "code",
   "execution_count": 34,
   "metadata": {},
   "outputs": [
    {
     "data": {
      "text/plain": [
       "<module 'utils' from 'c:\\\\Users\\\\Ben\\\\LLM\\\\utils.py'>"
      ]
     },
     "execution_count": 34,
     "metadata": {},
     "output_type": "execute_result"
    }
   ],
   "source": [
    "import importlib \n",
    "importlib.reload(utils)"
   ]
  },
  {
   "cell_type": "code",
   "execution_count": 17,
   "metadata": {},
   "outputs": [],
   "source": [
    "df = pd.read_pickle(\"nq_open_sample.pkl\")"
   ]
  },
  {
   "cell_type": "code",
   "execution_count": 18,
   "metadata": {},
   "outputs": [
    {
     "data": {
      "text/plain": [
       "('the auditory canal is formed out of which bone of the skull',\n",
       " ['tympani bone'])"
      ]
     },
     "execution_count": 18,
     "metadata": {},
     "output_type": "execute_result"
    }
   ],
   "source": [
    "df.question.iloc[15] , df.answer.iloc[15]"
   ]
  },
  {
   "cell_type": "code",
   "execution_count": 3,
   "metadata": {},
   "outputs": [
    {
     "name": "stdout",
     "output_type": "stream",
     "text": [
      "['Paris French pronunciation ⓘ is the capital and largest city of FranceWith an estimated population of 2048472 residents in January 2025 3 in an area of more than 105 km 2 41 sq mi 4 Paris is the fourthmost populous city in the European Union the ninthmost populous city in Europe and the 30th most densely populated city in the world in 2022 5', 'Paris city and capital of France located along the Seine River in the northcentral part of the country Paris is one of the worlds most important and attractive cities famed for its gastronomy haute couture painting literature and intellectual community Learn more about Paris in this article', 'As the capital city of France the city plays host to the national government of France Even the official residence of the president is in the city at the Élysée Palace while the Prime Minister is housed at the Hôtel Matignon The Senate or the upper house meets at the Palais du Luxembourg while the Palais Bourbon is the meeting point for ', 'France a country of northwestern Europe is historically and culturally among the most important countries in the Western world It has also played a highly significant role in international affairs for centuries Its capital is Paris one of the most important cultural and commercial centers in the world', 'Paris the capital of France is located in the northcentral portion of the country It constitutes one of the départements of the ÎledeFrance administrative region and is Frances most important centre of commerce and culture The city is home to the Eiffel Tower one of the worlds premier tourist attractions which opened to the public on May 15 1889', 'Answer The capital of France is Paris which is located in the northcentral part of the country Paris is also referred to as the City of Light La Ville Lumière Paris is also a global center for art fashion culture and history Paris is renowned for its iconic landmarks including the Eiffe', 'Paris is the capital of France Also known as the City of Light is not only the capital but also the most populous city of France Paris is renowned globally for its art fashion gastronomy and culture Paris the capital city of France Paris has been an important hub of commerce finance science music and philosophy', 'For the current capital see Paris The capital of France is Paris 1 In the course of history the national capital has been in many locations other than Paris History List of capitals of France Tournai before 486 Soissons 486ca 900 Paris 9001419 The residence of ', 'Paris is the capital city of France situated on the River Seine in northern France at the heart of the ÎledeFrance region Région parisienneThe Paris aire urbaine roughly metropolitan area is one of the most populated areas of its kind in Europe with a population of roughly 12 million including 10 million in the Paris urban area plus the population of the commuter belt ', 'Paris  p a ʁ i  a Écouter est la capitale de la France 1 et une collectivité à statut particulierDivisée en vingt arrondissements elle est le cheflieu de la région ÎledeFrance et le siège de la métropole du Grand Paris Paris est situé au centre du Bassin parisien sur une boucle de la Seine entre les confluents avec la Marne et lOiseLe site est occupé à partir du ']\n"
     ]
    }
   ],
   "source": [
    "content = search_google(\"what is the capital of France ?\")\n",
    "print(content)"
   ]
  },
  {
   "cell_type": "markdown",
   "metadata": {},
   "source": [
    "## QA model exploration \n"
   ]
  },
  {
   "cell_type": "code",
   "execution_count": 4,
   "metadata": {},
   "outputs": [
    {
     "name": "stdout",
     "output_type": "stream",
     "text": [
      "WARNING:tensorflow:From c:\\ProgramData\\Anaconda3\\envs\\pdi\\Lib\\site-packages\\tf_keras\\src\\losses.py:2976: The name tf.losses.sparse_softmax_cross_entropy is deprecated. Please use tf.compat.v1.losses.sparse_softmax_cross_entropy instead.\n",
      "\n"
     ]
    },
    {
     "name": "stderr",
     "output_type": "stream",
     "text": [
      "Device set to use cpu\n"
     ]
    }
   ],
   "source": [
    "qa_model = pipeline(\"question-answering\", \"timpal0l/mdeberta-v3-base-squad2\")"
   ]
  },
  {
   "cell_type": "code",
   "execution_count": 6,
   "metadata": {},
   "outputs": [
    {
     "ename": "DuckDuckGoSearchException",
     "evalue": "https://html.duckduckgo.com/html RuntimeError: error sending request for url (https://html.duckduckgo.com/html): operation timed out\n\nCaused by:\n    operation timed out",
     "output_type": "error",
     "traceback": [
      "\u001b[1;31m---------------------------------------------------------------------------\u001b[0m",
      "\u001b[1;31mDuckDuckGoSearchException\u001b[0m                 Traceback (most recent call last)",
      "Cell \u001b[1;32mIn[6], line 4\u001b[0m\n\u001b[0;32m      2\u001b[0m i \u001b[38;5;241m=\u001b[39m \u001b[38;5;241m0\u001b[39m\n\u001b[0;32m      3\u001b[0m question \u001b[38;5;241m=\u001b[39m df\u001b[38;5;241m.\u001b[39mquestion\u001b[38;5;241m.\u001b[39miloc[i]\n\u001b[1;32m----> 4\u001b[0m contexts \u001b[38;5;241m=\u001b[39m \u001b[43msearch_google\u001b[49m\u001b[43m(\u001b[49m\u001b[43mquestion\u001b[49m\u001b[43m)\u001b[49m\n\u001b[0;32m      6\u001b[0m \u001b[38;5;66;03m# Create a batch of inputs\u001b[39;00m\n\u001b[0;32m      7\u001b[0m batch \u001b[38;5;241m=\u001b[39m [{\u001b[38;5;124m\"\u001b[39m\u001b[38;5;124mquestion\u001b[39m\u001b[38;5;124m\"\u001b[39m: question, \u001b[38;5;124m\"\u001b[39m\u001b[38;5;124mcontext\u001b[39m\u001b[38;5;124m\"\u001b[39m: context} \u001b[38;5;28;01mfor\u001b[39;00m context \u001b[38;5;129;01min\u001b[39;00m contexts]\n",
      "File \u001b[1;32mc:\\Users\\Ben\\LLM\\utils.py:18\u001b[0m, in \u001b[0;36msearch_google\u001b[1;34m(query)\u001b[0m\n\u001b[0;32m     14\u001b[0m \u001b[38;5;28;01mdef\u001b[39;00m \u001b[38;5;21msearch_google\u001b[39m(query):\n\u001b[0;32m     15\u001b[0m \n\u001b[0;32m     16\u001b[0m     \u001b[38;5;66;03m#content = \"\"\u001b[39;00m\n\u001b[0;32m     17\u001b[0m     content \u001b[38;5;241m=\u001b[39m []\n\u001b[1;32m---> 18\u001b[0m     results \u001b[38;5;241m=\u001b[39m \u001b[43mDDGS\u001b[49m\u001b[43m(\u001b[49m\u001b[43m)\u001b[49m\u001b[38;5;241;43m.\u001b[39;49m\u001b[43mtext\u001b[49m\u001b[43m(\u001b[49m\u001b[43mquery\u001b[49m\u001b[43m,\u001b[49m\u001b[43m \u001b[49m\u001b[43mmax_results\u001b[49m\u001b[38;5;241;43m=\u001b[39;49m\u001b[38;5;241;43m10\u001b[39;49m\u001b[43m)\u001b[49m\n\u001b[0;32m     20\u001b[0m     \u001b[38;5;28;01mfor\u001b[39;00m text \u001b[38;5;129;01min\u001b[39;00m results : \n\u001b[0;32m     21\u001b[0m         \u001b[38;5;66;03m#content+=\"\\n\"+text['body']\u001b[39;00m\n\u001b[0;32m     22\u001b[0m         sub_text \u001b[38;5;241m=\u001b[39m re\u001b[38;5;241m.\u001b[39msub(\u001b[38;5;124mr\u001b[39m\u001b[38;5;124m'\u001b[39m\u001b[38;5;124m([^\u001b[39m\u001b[38;5;124m\\\u001b[39m\u001b[38;5;124ms\u001b[39m\u001b[38;5;124m\\\u001b[39m\u001b[38;5;124mw]|_)+\u001b[39m\u001b[38;5;124m'\u001b[39m, \u001b[38;5;124m'\u001b[39m\u001b[38;5;124m'\u001b[39m, text[\u001b[38;5;124m'\u001b[39m\u001b[38;5;124mbody\u001b[39m\u001b[38;5;124m'\u001b[39m])\n",
      "File \u001b[1;32mc:\\ProgramData\\Anaconda3\\envs\\pdi\\Lib\\site-packages\\duckduckgo_search\\duckduckgo_search.py:253\u001b[0m, in \u001b[0;36mDDGS.text\u001b[1;34m(self, keywords, region, safesearch, timelimit, backend, max_results)\u001b[0m\n\u001b[0;32m    250\u001b[0m         logger\u001b[38;5;241m.\u001b[39minfo(\u001b[38;5;124mf\u001b[39m\u001b[38;5;124m\"\u001b[39m\u001b[38;5;124mError to search using \u001b[39m\u001b[38;5;132;01m{\u001b[39;00mb\u001b[38;5;132;01m}\u001b[39;00m\u001b[38;5;124m backend: \u001b[39m\u001b[38;5;132;01m{\u001b[39;00mex\u001b[38;5;132;01m}\u001b[39;00m\u001b[38;5;124m\"\u001b[39m)\n\u001b[0;32m    251\u001b[0m         err \u001b[38;5;241m=\u001b[39m ex\n\u001b[1;32m--> 253\u001b[0m \u001b[38;5;28;01mraise\u001b[39;00m DuckDuckGoSearchException(err)\n",
      "\u001b[1;31mDuckDuckGoSearchException\u001b[0m: https://html.duckduckgo.com/html RuntimeError: error sending request for url (https://html.duckduckgo.com/html): operation timed out\n\nCaused by:\n    operation timed out"
     ]
    }
   ],
   "source": [
    "## Parallelization\n",
    "i = 0\n",
    "question = df.question.iloc[i]\n",
    "contexts = search_google(question)\n",
    "\n",
    "# Create a batch of inputs\n",
    "batch = [{\"question\": question, \"context\": context} for context in contexts]\n",
    "\n",
    "# Use the model to process the batch\n",
    "results = qa_model(batch)"
   ]
  },
  {
   "cell_type": "code",
   "execution_count": null,
   "metadata": {},
   "outputs": [],
   "source": []
  },
  {
   "cell_type": "markdown",
   "metadata": {},
   "source": [
    "## Model evaluation "
   ]
  },
  {
   "cell_type": "code",
   "execution_count": 8,
   "metadata": {},
   "outputs": [
    {
     "name": "stderr",
     "output_type": "stream",
     "text": [
      "c:\\ProgramData\\Anaconda3\\envs\\pdi\\Lib\\site-packages\\transformers\\pipelines\\question_answering.py:391: FutureWarning: Passing a list of SQuAD examples to the pipeline is deprecated and will be removed in v5. Inputs should be passed using the `question` and `context` keyword arguments instead.\n",
      "  warnings.warn(\n"
     ]
    },
    {
     "data": {
      "text/plain": [
       "['BlackScholes',\n",
       " 'The Better Work Project Tech Science AI Enterprise',\n",
       " 'Nicole El Karoui',\n",
       " 'British bank',\n",
       " 'Bristol Whos Who Inc',\n",
       " 'Schvartz',\n",
       " 'Pierre and Marie Curie University Paris VI',\n",
       " 'École Polytechnique and University of Maine France',\n",
       " 'Nicole El Karoui',\n",
       " 'Nicolas Sagna']"
      ]
     },
     "execution_count": 8,
     "metadata": {},
     "output_type": "execute_result"
    }
   ],
   "source": [
    "QA_answer('What is the name of the company where work nicole el karoui',qa_model,best_score=False)"
   ]
  },
  {
   "cell_type": "code",
   "execution_count": 9,
   "metadata": {},
   "outputs": [],
   "source": [
    "df_eval = df.iloc[:15]"
   ]
  },
  {
   "cell_type": "code",
   "execution_count": 10,
   "metadata": {},
   "outputs": [
    {
     "name": "stderr",
     "output_type": "stream",
     "text": [
      "C:\\Users\\moham\\AppData\\Local\\Temp\\ipykernel_21376\\1770330120.py:1: SettingWithCopyWarning: \n",
      "A value is trying to be set on a copy of a slice from a DataFrame.\n",
      "Try using .loc[row_indexer,col_indexer] = value instead\n",
      "\n",
      "See the caveats in the documentation: https://pandas.pydata.org/pandas-docs/stable/user_guide/indexing.html#returning-a-view-versus-a-copy\n",
      "  df_eval['answer_cleaned'] = df_eval.answer.apply(lambda x : clean(x))\n"
     ]
    }
   ],
   "source": [
    "df_eval['answer_cleaned'] = df_eval.answer.apply(lambda x : clean(x))"
   ]
  },
  {
   "cell_type": "code",
   "execution_count": 13,
   "metadata": {},
   "outputs": [
    {
     "name": "stderr",
     "output_type": "stream",
     "text": [
      "c:\\ProgramData\\Anaconda3\\envs\\pdi\\Lib\\site-packages\\transformers\\pipelines\\question_answering.py:391: FutureWarning: Passing a list of SQuAD examples to the pipeline is deprecated and will be removed in v5. Inputs should be passed using the `question` and `context` keyword arguments instead.\n",
      "  warnings.warn(\n",
      "C:\\Users\\moham\\AppData\\Local\\Temp\\ipykernel_21376\\2963951806.py:1: SettingWithCopyWarning: \n",
      "A value is trying to be set on a copy of a slice from a DataFrame.\n",
      "Try using .loc[row_indexer,col_indexer] = value instead\n",
      "\n",
      "See the caveats in the documentation: https://pandas.pydata.org/pandas-docs/stable/user_guide/indexing.html#returning-a-view-versus-a-copy\n",
      "  df_eval['QA_answers'] = df_eval.question.apply(lambda x : QA_answer(x,qa_model,True))\n"
     ]
    }
   ],
   "source": [
    "df_eval['QA_answers'] = df_eval.question.apply(lambda x : QA_answer(x,qa_model,True))"
   ]
  },
  {
   "cell_type": "code",
   "execution_count": 36,
   "metadata": {},
   "outputs": [],
   "source": [
    "df_eval['indicateur'] = df_eval.apply(lambda row : answers_index(row.question,row.answer_cleaned[0]) ,axis='columns')"
   ]
  },
  {
   "cell_type": "code",
   "execution_count": 38,
   "metadata": {},
   "outputs": [],
   "source": [
    "df_eval.to_csv('resultats/qa_model_evaluation.csv')"
   ]
  },
  {
   "cell_type": "code",
   "execution_count": null,
   "metadata": {},
   "outputs": [],
   "source": []
  }
 ],
 "metadata": {
  "kernelspec": {
   "display_name": "pdi",
   "language": "python",
   "name": "python3"
  },
  "language_info": {
   "codemirror_mode": {
    "name": "ipython",
    "version": 3
   },
   "file_extension": ".py",
   "mimetype": "text/x-python",
   "name": "python",
   "nbconvert_exporter": "python",
   "pygments_lexer": "ipython3",
   "version": "3.11.0"
  }
 },
 "nbformat": 4,
 "nbformat_minor": 2
}
